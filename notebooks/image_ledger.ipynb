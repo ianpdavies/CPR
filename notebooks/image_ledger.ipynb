{
 "cells": [
  {
   "cell_type": "markdown",
   "metadata": {},
   "source": [
    "# Image Ledger"
   ]
  },
  {
   "cell_type": "markdown",
   "metadata": {},
   "source": [
    "### Good Floods from GFD app\n",
    "http://global-flood-database.appspot.com/"
   ]
  },
  {
   "cell_type": "markdown",
   "metadata": {},
   "source": [
    "| DFO # | Date | Clear images? (L8) | Images (LANDSAT/LC08/C01/T1_TOA) |\n",
    "| --- | --- | --- | --- |\n",
    "| 4101 | 2013-10-20 | yes | LC08_027038_20131103, LC08_027039_20131103|\n",
    "| 4115 | 2013-12-22 | yes  |LC08_021033_20131227,  LC08_021034_20131227 |\n",
    "| 4230 | 2015-03-10 | no | |\n",
    "| 4267 | 2015-06-18 | no | |\n",
    "| 4314 | 2015-12-10 | yes (79 imgs) | |\n",
    "| 4337 | 2016-03-08 | yes | LC08_026036_20160325, LC08_026038_20160325| \n",
    "| 4388 | 2016-08-14| no |  | "
   ]
  },
  {
   "cell_type": "code",
   "execution_count": null,
   "metadata": {},
   "outputs": [],
   "source": []
  }
 ],
 "metadata": {
  "kernelspec": {
   "display_name": "Python (thesis)",
   "language": "python",
   "name": "thesis"
  },
  "language_info": {
   "name": ""
  }
 },
 "nbformat": 4,
 "nbformat_minor": 4
}
