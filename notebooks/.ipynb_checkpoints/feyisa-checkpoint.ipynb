{
 "cells": [
  {
   "cell_type": "markdown",
   "metadata": {},
   "source": [
    "# Feyisa automated water extraction index (AWEI)"
   ]
  },
  {
   "cell_type": "markdown",
   "metadata": {},
   "source": [
    "From [Feyisa et al. (2014)](https://www.sciencedirect.com/science/article/pii/S0034425713002873)"
   ]
  },
  {
   "cell_type": "markdown",
   "metadata": {},
   "source": [
    "Feyisa et al. have two indices, AWEIsh and AWEInsh, for images with and without shadows. Not sure how to incorporate both yet, because AWEI + BQA shadow bands don't eliminate shadows 100%. "
   ]
  },
  {
   "cell_type": "code",
   "execution_count": 56,
   "metadata": {},
   "outputs": [],
   "source": [
    "import ee; ee.Initialize()\n",
    "import ipyleaflet  # an interactive mapping \"widget\" for the notebook"
   ]
  },
  {
   "cell_type": "markdown",
   "metadata": {},
   "source": [
    "### Detect floods"
   ]
  },
  {
   "cell_type": "code",
   "execution_count": 81,
   "metadata": {},
   "outputs": [],
   "source": [
    "scene = ee.Image('LANDSAT/LC08/C01/T1_TOA/LC08_044033_20170105')\n",
    "\n",
    "# AWEI Function from Feyisa et al. (2014) to detect water\n",
    "def feyisa(image):\n",
    "    return image.expression(\"4 * (b('B3')-b('B6')) - (0.25 * b('B5') + 2.75 * b('B7'))\").gt(0)"
   ]
  },
  {
   "cell_type": "markdown",
   "metadata": {},
   "source": [
    "### Remove clouds, cloud shadows, and snow"
   ]
  },
  {
   "cell_type": "code",
   "execution_count": 82,
   "metadata": {},
   "outputs": [],
   "source": [
    "# Compute the bits we need to extract\n",
    "def getQABits(image, start, end, newName):\n",
    "    pattern = 0\n",
    "    i = start\n",
    "    for i in range(start, end+1):\n",
    "        pattern += 2**i\n",
    "    # Return a single band image of the extracted QA bits, giving the band a new name\n",
    "    return image.select([0], [newName])\\\n",
    "              .bitwiseAnd(pattern)\\\n",
    "              .rightShift(start);\n",
    "\n",
    "# Cloud shadows QA (Landsat 8, T1 TOA)\n",
    "def cloud_shadowsQA(image):\n",
    "    QA = image.select(['BQA'])\n",
    "    return getQABits(QA, 7, 8, 'cloud_shadows').eq(1)\n",
    "\n",
    "# Clouds QA (Landsat 8, T1 TOA)\n",
    "def cloudsQA(image):\n",
    "    QA = image.select(['BQA'])\n",
    "    return getQABits(QA, 4, 4, 'clouds').eq(0)\n",
    "\n",
    "def snowQA(image):\n",
    "    QA = image.select(['BQA'])\n",
    "    return getQABits(QA, 9, 10, 'snow_ice').eq(1)"
   ]
  },
  {
   "cell_type": "code",
   "execution_count": 89,
   "metadata": {},
   "outputs": [],
   "source": [
    "cs = cloud_shadowsQA(scene)\n",
    "c = cloudsQA(scene)\n",
    "s = snowQA(scene)\n",
    "\n",
    "sceneFlood = feyisa(scene).rename('floodBinary') # Detect water\n",
    "sceneFlood = sceneFlood.updateMask(cs).updateMask(c).updateMask(s) # Mask out clouds, cloud shadows, and snow/ice\n",
    "sceneFlood = sceneFlood.updateMask(sceneFlood.eq(1)) # Mask out non-water for visualizing"
   ]
  },
  {
   "cell_type": "markdown",
   "metadata": {},
   "source": [
    "### Map the floods "
   ]
  },
  {
   "cell_type": "code",
   "execution_count": 90,
   "metadata": {},
   "outputs": [
    {
     "data": {
      "application/vnd.jupyter.widget-view+json": {
       "model_id": "5ce4ea7fb8e64b96a8f8b38306a12f80",
       "version_major": 2,
       "version_minor": 0
      },
      "text/plain": [
       "Map(basemap={'url': 'https://{s}.tile.openstreetmap.org/{z}/{x}/{y}.png', 'max_zoom': 19, 'attribution': 'Map …"
      ]
     },
     "metadata": {},
     "output_type": "display_data"
    }
   ],
   "source": [
    "def GetTileLayerUrl(ee_image_object):\n",
    "    map_id = ee.Image(ee_image_object).getMapId()\n",
    "    tile_url_template = \"https://earthengine.googleapis.com/map/{mapid}/{{z}}/{{x}}/{{y}}?token={token}\"\n",
    "    return tile_url_template.format(**map_id)\n",
    "\n",
    "# Get centroid coords to center the map\n",
    "center = scene.geometry().centroid().coordinates().getInfo()\n",
    "\n",
    "# Visualization parameters\n",
    "vizFlood = {'palette':['red'],\n",
    "           'opacity':0.5}\n",
    "\n",
    "map1 = ipyleaflet.Map(\n",
    "    center=(center[1],center[0]), zoom=8,\n",
    "    layout={'height':'400px'}\n",
    ")\n",
    "map1.add_layer(\n",
    "    ipyleaflet.TileLayer(url=GetTileLayerUrl(\n",
    "        sceneFlood.visualize(**vizFlood)\n",
    "    )\n",
    "))\n",
    "map1"
   ]
  },
  {
   "cell_type": "code",
   "execution_count": null,
   "metadata": {},
   "outputs": [],
   "source": []
  }
 ],
 "metadata": {
  "kernelspec": {
   "display_name": "Python (tensorflow)",
   "language": "python",
   "name": "tensorflow"
  },
  "language_info": {
   "codemirror_mode": {
    "name": "ipython",
    "version": 3
   },
   "file_extension": ".py",
   "mimetype": "text/x-python",
   "name": "python",
   "nbconvert_exporter": "python",
   "pygments_lexer": "ipython3",
   "version": "3.6.6"
  }
 },
 "nbformat": 4,
 "nbformat_minor": 2
}
