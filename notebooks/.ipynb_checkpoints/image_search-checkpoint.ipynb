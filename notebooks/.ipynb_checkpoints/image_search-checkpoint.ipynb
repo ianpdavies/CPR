{
 "cells": [
  {
   "cell_type": "markdown",
   "metadata": {},
   "source": [
    "## Image acquisition\n",
    "Search through DFO fusion table for flood events (for now, just in the US) and then find overlap with Landsat 8. Might later want to add Landsat 7, maybe 5."
   ]
  },
  {
   "cell_type": "code",
   "execution_count": null,
   "metadata": {},
   "outputs": [],
   "source": [
    "import ee; ee.Initialize()"
   ]
  },
  {
   "cell_type": "code",
   "execution_count": null,
   "metadata": {},
   "outputs": [],
   "source": [
    "# The import feature collection with flood events\n",
    "feats = ee.FeatureCollection('ft:1uQgyUakR1ZiXeKZNc2uay69A_5vJe0iC882-Id8E');\n",
    "\n",
    "# Set the end date 3 days after the begin date and convert the date entries ee.Dates.\n",
    "# These will be the date bounds in which we search for imagery\n",
    "def eventDate(event):\n",
    "    newBegan = ee.Date(event.get('Began'))\n",
    "    newEnded = ee.Date(event.get('Ended')).advance(3, 'day')\n",
    "    return (event.set({'Began': newBegan, 'Ended': newEnded}))\n",
    "\n",
    "dfo = eventDate(feats)\n",
    "dfo = dfo.filterMetadata('Country', 'equals', 'USA') # Filter by US\n",
    "dfo = dfo.filterMetadata('Began', 'greater_than', ee.Date('2000-01-01')) # Filter a small number of events for testing\n",
    "\n",
    "# Function to filter the ImageCollection by date and bounds of flood event\n",
    "def filterIC(ic, ft):\n",
    "    range = ee.DateRange(ft.get('Began'), ft.get('Ended'))\n",
    "    bounds = ft.geometry()\n",
    "    dfoID = ft.get('ID')\n",
    "    return ic.filterBounds(bounds).filterDate(range).map(lambda x: x.set('dfoID', dfoID))\n",
    "\n",
    "# Get Landsat images that intersect flood boundaries during flood event window\n",
    "def getLandsatImages(event):\n",
    "    dfoID = event.get('ID')\n",
    "    l8 = filterIC(ee.ImageCollection('LANDSAT/LC08/C01/T1_TOA'), event).toList(1000)\n",
    "    l7 = filterIC(ee.ImageCollection('LANDSAT/LE07/C01/T1_TOA'), event).toList(1000)\n",
    "    l5 = filterIC(ee.ImageCollection('LANDSAT/LT05/C01/T1_TOA'), event).toList(1000)\n",
    "    imageList = l8.add(l7).add(l5);\n",
    "    return ee.ImageCollection.fromImages(ee.List(imageList).flatten())\\\n",
    "    .set({'dfoID': dfoID, 'Began': ee.Date(event.get('Began')),\n",
    "          'Ended': ee.Date(event.get('Ended')).advance(3, 'day')});\n",
    "\n",
    "imgs = ee.ImageCollection(dfo.map(getLandsatImages)).flatten();\n",
    "imgs = ee.ImageCollection(dfo.map(getLandsatImages))\n",
    "# print(\"list of flood event IDs\", ee.List(feats.aggregate_array('ID')))\n",
    "# print(\"Images from a certain flood event\", imgs.filter(ee.Filter.eq('dfoID', 4625)));\n",
    "# print(\"Images from a certain flood event\", imgs.filter(ee.Filter.eq('dfoID', 4560)));"
   ]
  }
 ],
 "metadata": {
  "kernelspec": {
   "display_name": "Python (tensorflow)",
   "language": "python",
   "name": "tensorflow"
  },
  "language_info": {
   "codemirror_mode": {
    "name": "ipython",
    "version": 3
   },
   "file_extension": ".py",
   "mimetype": "text/x-python",
   "name": "python",
   "nbconvert_exporter": "python",
   "pygments_lexer": "ipython3",
   "version": "3.6.6"
  }
 },
 "nbformat": 4,
 "nbformat_minor": 2
}
