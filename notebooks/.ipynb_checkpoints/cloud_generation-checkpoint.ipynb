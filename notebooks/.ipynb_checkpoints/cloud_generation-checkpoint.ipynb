{
 "cells": [
  {
   "cell_type": "markdown",
   "metadata": {},
   "source": [
    "# Function to generate cloud masks at varying % cloud cover for input image"
   ]
  },
  {
   "cell_type": "markdown",
   "metadata": {},
   "source": [
    "---------------------"
   ]
  },
  {
   "cell_type": "markdown",
   "metadata": {},
   "source": [
    "### Notes:\n",
    " - Octaves = 10, with persistence = 0.5 and lacunarity = 2.0 (defaults), are good settings. There isn't a seed parameter, but the base parameter can be changed to generate different clouds with the same settings."
   ]
  },
  {
   "cell_type": "markdown",
   "metadata": {},
   "source": [
    "----------------------------"
   ]
  },
  {
   "cell_type": "markdown",
   "metadata": {},
   "source": [
    "# Generating cloud masks"
   ]
  },
  {
   "cell_type": "code",
   "execution_count": 1,
   "metadata": {},
   "outputs": [],
   "source": [
    "import random\n",
    "import rasterio\n",
    "import os\n",
    "from noise import snoise3\n",
    "import numpy as np\n",
    "from math import sqrt\n",
    "\n",
    "def cloudGenerator(img, path, seed=None, octaves=10, overwrite=False):\n",
    "    \"\"\"\n",
    "    Creates a random cloud image using Simplex noise, and saves that as a numpy binary file.\n",
    "    The cloud image can then be thresholded by varying % cloud cover to create a binary cloud mask.\n",
    "    See example.\n",
    "    \n",
    "    Reqs: random, rasterio, os, snoise3 from noise, numpy, sqrt from math\n",
    "    \n",
    "    Parameters\n",
    "    ----------\n",
    "    seed : int \n",
    "        If no seed provided, a random integer between 1-10000 is used.\n",
    "    path :str \n",
    "        Path to data directory\n",
    "    img : str\n",
    "        Image name that will be used to name cloudmask\n",
    "    overwrite: true/false\n",
    "        Whether existing cloud image should be overwritten\n",
    "    \n",
    "    Returns\n",
    "    ----------\n",
    "    clouds : array\n",
    "        Cloud image as a numpy array; also saved as a numpy binary file\n",
    "        \n",
    "    Example\n",
    "    ----------\n",
    "    path = 'C:/Users/ipdavies/CPR/data'\n",
    "    img = '4337_LC08_026038_20160325_1'\n",
    "    \n",
    "    myClouds = cloudGenerator(img = img, path = path)\n",
    "    \n",
    "    # Create cloudmask with 90% cloud cover\n",
    "    cloudmask_20 = myClouds < np.percentile(clouds, 90) \n",
    "    \"\"\"\n",
    "    \n",
    "    cloud_dir = path+'/clouds'\n",
    "    \n",
    "    if overwrite==False:\n",
    "            if os.path.exists(cloud_dir+'/'+img+'_clouds.npy') == True:\n",
    "                print('Cloud image already exists for '+ img)\n",
    "                return\n",
    "            else:\n",
    "                print('No cloud image for '+img+', creating one')\n",
    "\n",
    "    if overwrite==True:\n",
    "        try:\n",
    "            os.remove(cloud_dir+'/'+img+'_clouds.npy')\n",
    "            print('Removing existing cloud image for '+img+' and creating new one')\n",
    "        except FileNotFoundError:\n",
    "            print('No existing cloud image for '+img+'. Creating new one')\n",
    "\n",
    "    # Make directory for clouds if none exists\n",
    "    if os.path.isdir(cloud_dir) == False:\n",
    "        os.mkdir(cloud_dir)\n",
    "        print('Creating cloud imagery directory')\n",
    "\n",
    "    if seed==None:\n",
    "        seed = (random.randint(1,10000))\n",
    "\n",
    "    # Get shape of input image to be masked\n",
    "    with rasterio.open(path+'/images/'+img+'/stack/stack.tif') as ds:\n",
    "        shape = ds.shape\n",
    "\n",
    "    # Create empty array of zeros to generate clouds on\n",
    "    clouds = np.zeros(shape)\n",
    "    freq = np.ceil(sqrt(np.sum(shape)/2)) * octaves # Frequency calculated based on shape of image\n",
    "\n",
    "    # Generate 2D (technically 3D, but uses a scalar for z) simplex noise\n",
    "    for y in range(shape[1]):\n",
    "        for x in range(shape[0]):\n",
    "              clouds[x,y] = snoise3(x/freq, y/freq, seed, octaves)\n",
    "\n",
    "    # Save cloud file as \n",
    "    filename = cloud_dir+'/'+img+'_clouds'\n",
    "    np.save(filename, clouds)\n",
    "\n",
    "    # Return clouds\n",
    "    return clouds\n"
   ]
  }
 ],
 "metadata": {
  "kernelspec": {
   "display_name": "Python 3",
   "language": "python",
   "name": "python3"
  },
  "language_info": {
   "codemirror_mode": {
    "name": "ipython",
    "version": 3
   },
   "file_extension": ".py",
   "mimetype": "text/x-python",
   "name": "python",
   "nbconvert_exporter": "python",
   "pygments_lexer": "ipython3",
   "version": "3.6.6"
  }
 },
 "nbformat": 4,
 "nbformat_minor": 2
}
