{
 "cells": [
  {
   "cell_type": "markdown",
   "metadata": {},
   "source": [
    "# Flood Detection Methods"
   ]
  },
  {
   "cell_type": "code",
   "execution_count": 1,
   "metadata": {},
   "outputs": [],
   "source": [
    "%matplotlib inline\n",
    "import ipywidgets\n",
    "import IPython.display\n",
    "import numpy as np\n",
    "import pprint\n",
    "import pandas as pd\n",
    "import matplotlib.pyplot as plt\n",
    "import ee; ee.Initialize()\n",
    "\n",
    "# Configure the pretty printing output\n",
    "pp = pprint.PrettyPrinter(depth=4)"
   ]
  },
  {
   "cell_type": "code",
   "execution_count": null,
   "metadata": {},
   "outputs": [],
   "source": [
    "# Landsat 8 scene from Iowa City, IA (2016)\n",
    "image = ee.Image('LANDSAT/LC08/C01/T1_TOA/LC08_025031_20160926')\n",
    "# Get metadata\n",
    "# image.getInfo()"
   ]
  },
  {
   "cell_type": "code",
   "execution_count": null,
   "metadata": {},
   "outputs": [],
   "source": [
    "# Rename bands to something more understandable\n",
    "l8t1_bands = ee.Dictionary({\n",
    "    'B1': 'ultra_blue',\n",
    "    'B2': 'blue',\n",
    "    'B3': 'green',\n",
    "    'B4': 'red',\n",
    "    'B5': 'nir',\n",
    "    'B6': 'swir1',\n",
    "    'B7': 'swir2',\n",
    "    'B8': 'pan',\n",
    "    'B9': 'cirrus',\n",
    "    'B10': 'tirs1',\n",
    "    'B11': 'tirs2',\n",
    "    'BQA': 'bqa'\n",
    "})\n",
    "band_names_new = l8t1_bands.values(image.bandNames())\n",
    "band_names_original = image.bandNames()\n",
    "image = image.select(band_names_original, band_names_new)"
   ]
  },
  {
   "cell_type": "code",
   "execution_count": null,
   "metadata": {},
   "outputs": [],
   "source": [
    "# Pansharpen the image to get a better resolution, then visualize\n",
    "poly = ee.Geometry.Polygon(\n",
    "    [[[-91.78812019737575, 41.95033307316587],\n",
    "           [-91.79361336143825, 41.90333364712244],\n",
    "           [-91.71739571007106, 41.9012894084067],\n",
    "           [-91.72151558311793, 41.95288639774597]]])\n",
    "\n",
    "def panSharpenL8(image):\n",
    "    hsv = image.select('red', 'green', 'blue').rgbToHsv()\n",
    "    sharpened = ee.Image.cat([hsv.select('hue'), \n",
    "                              hsv.select('saturation'), \n",
    "                              image.select('pan')]).hsvToRgb()\n",
    "    return sharpened\n",
    "\n",
    "# parameters for stretching\n",
    "visparams = {'min':0,\n",
    "             'max': 0.25,\n",
    "#              'region':poly.getInfo()['coordinates'],\n",
    "             'gamma': [1.3, 1.3, 1.3]}\n",
    "\n",
    "sharpened = panSharpenL8(image)\n",
    "\n",
    "# Get thumbnail URL from GEE server\n",
    "url = sharpened.getThumbUrl(visparams) \n",
    "IPython.display.Image(url=url, format='png', embed=True)"
   ]
  },
  {
   "cell_type": "code",
   "execution_count": null,
   "metadata": {},
   "outputs": [],
   "source": [
    "# Calculate MNDWI\n",
    "green = image.select('green')\n",
    "swir2 = image.select('swir2')\n",
    "mndwi = green.subtract(swir2).divide(green.add(swir2)).rename('MNDWI')\n",
    "# mndwi = image.normalizedDifference(['green','swir2']) # For some reason this produces a less contrasted MNDWI. Need to check hist tho to make sure.\n",
    "\n",
    "# display mndwi\n",
    "mndwiParams = {min: -1, max: 1}\n",
    "url = mndwi.getThumbUrl(mndwiParams)\n",
    "IPython.display.Image(url=url, format='png', embed=True)"
   ]
  },
  {
   "cell_type": "code",
   "execution_count": null,
   "metadata": {},
   "outputs": [],
   "source": [
    "# Canny edge detection ... understand how this works\n",
    "canny = ee.Algorithms.CannyEdgeDetector(mndwi, 0.99, 0)\n",
    "# canny = canny.clip(poly)\n",
    "# bounds = ee.Feature()\n",
    "\n",
    "url = canny.getThumbUrl()\n",
    "IPython.display.Image(url=url, format='png', embed=True)"
   ]
  },
  {
   "cell_type": "code",
   "execution_count": null,
   "metadata": {
    "scrolled": true
   },
   "outputs": [],
   "source": [
    "# Now adding a buffer (morphological dilation) to the edges equal to 1/2 the pixel size (30m / 2  = 15m). \n",
    "# Might want to tune this parameter\n",
    "\n",
    "# Define a kernel (structuring element)\n",
    "kernel = ee.Kernel.square(radius = 1, units = 'pixels')\n",
    "\n",
    "# Dilate\n",
    "buffered = canny.focal_max(kernel = kernel, iterations = 2)\n",
    "\n",
    "# Mask MNDWI\n",
    "mndwi_mask = mndwi.mask(buffered)\n",
    "\n",
    "# visualize\n",
    "url = mndwi_mask.getThumbUrl()\n",
    "IPython.display.Image(url=url, format='png', embed=True)"
   ]
  },
  {
   "cell_type": "code",
   "execution_count": null,
   "metadata": {
    "scrolled": true
   },
   "outputs": [],
   "source": [
    "# poly = ee.Geometry.Polygon()\n",
    "\n",
    "# hist = mndwi.select('MNDWI').reduceRegion(ee.Reducer.histogram(20), bestEffort=True).getInfo()\n",
    "# This is from JS EE and makes a nice barplot there, might want to try doing that here for better viz\n",
    "# var h = ee.Dictionary(histogram.get('MNDWI')).get('histogram')\n",
    "# var x = ee.Dictionary(histogram.get('MNDWI')).get('bucketMeans')\n",
    "# x = ee.List(x).map(function(v) {return ee.String(v)})\n",
    "\n",
    "histogram = mndwi.select('MNDWI').reduceRegion(reducer = ee.Reducer.histogram(100), bestEffort=True).getInfo()\n",
    "y = histogram['MNDWI']['histogram'] \n",
    "x = [histogram['MNDWI']['bucketWidth'] * v + histogram['MNDWI']['bucketMin'] for v in range(len(y)) ]\n",
    "plt.plot(x, y)\n",
    "# plt.bar(x, y)\n",
    "# # print(x)"
   ]
  },
  {
   "cell_type": "code",
   "execution_count": null,
   "metadata": {},
   "outputs": [],
   "source": [
    "# Histogram just from buffer values\n",
    "\n",
    "histogram = mndwi_mask.select('MNDWI').reduceRegion(reducer = ee.Reducer.histogram(100), bestEffort=True).getInfo()\n",
    "y = histogram['MNDWI']['histogram'] \n",
    "x = [histogram['MNDWI']['bucketWidth'] * v + histogram['MNDWI']['bucketMin'] for v in range(len(y)) ]\n",
    "plt.plot(x, y)"
   ]
  },
  {
   "cell_type": "markdown",
   "metadata": {},
   "source": [
    "## Otsu thresholding by Simon Topp, based on Donchyts"
   ]
  },
  {
   "cell_type": "code",
   "execution_count": 8,
   "metadata": {},
   "outputs": [],
   "source": [
    "# table = ee.FeatureCollection('users/sntopp/Lakes_ply_20171106')\n",
    "# lakeNum = int(table.size().getInfo())\n",
    "# lakes = table.toList(lakeNum) \n",
    "\n",
    "\n",
    "# collectionL5 = ee.ImageCollection('LANDSAT/LT05/C01/T1_SR')\\\n",
    "#     .filter(ee.Filter.eq('WRS_PATH', 15))\\\n",
    "#     .filter(ee.Filter.eq('WRS_ROW', 36))\\\n",
    "#     .set({'Mission': 'L5'})\n",
    "\n",
    "# polygon = table.filter(ee.Filter.eq('GNIS_NAME', 'Salters Lake')).geometry()\n",
    "\n",
    "# image = ee.Image(collectionL5.filterBounds(polygon).filter(ee.Filter.date('1994-06-19','1994-06-21')).first())\n",
    "image = ee.Image('LANDSAT/LC08/C01/T1_TOA/LC08_025031_20160926')\n",
    "\n",
    "def thresh(image):\n",
    "#     ndwi = image.normalizedDifference(['B2','B5']).rename('ndwi') # L5\n",
    "    ndwi = image.normalizedDifference(['B3','B7']).rename('ndwi')\n",
    "#     ndwi = image.normalizedDifference(['green','swir2']).rename('ndwi') # L8, renamed \n",
    "#     histogram = ndwi.reduceRegion(ee.Reducer.histogram(50).combine('mean', 'mean', True).combine('variance', 'var', True), polygon.buffer(1500), 100, None, None, True)\n",
    "    histogram = ndwi.reduceRegion(ee.Reducer.histogram(50).combine('mean', None, True).combine('variance', None, True), None, 100, None, None, True)\n",
    "    histogram = histogram.get('ndwi_histogram')\n",
    "\n",
    "    def otsu(histogram):\n",
    "        counts = ee.Array(ee.Dictionary(histogram).get('histogram'))\n",
    "        means = ee.Array(ee.Dictionary(histogram).get('bucketMeans'))\n",
    "        size = means.length().get([0])\n",
    "        total = counts.reduce(ee.Reducer.sum(), [0]).get([0])\n",
    "        sums = means.multiply(counts).reduce(ee.Reducer.sum(), [0]).get([0])\n",
    "        mean = sums.divide(total)\n",
    "        indices = ee.List.sequence(1, size)\n",
    "  \n",
    "  ### Compute between sum of squares, where each mean partitions the data.\n",
    "        def ss(i):\n",
    "            aCounts = counts.slice(0, 0, i)\n",
    "            aCount = aCounts.reduce(ee.Reducer.sum(), [0]).get([0]);\n",
    "            aMeans = means.slice(0, 0, i);\n",
    "            aMean = aMeans.multiply(aCounts).reduce(ee.Reducer.sum(), [0]).get([0]).divide(aCount)\n",
    "            bCount = total.subtract(aCount)\n",
    "            bMean = sums.subtract(aCount.multiply(aMean)).divide(bCount)\n",
    "            return aCount.multiply(aMean.subtract(mean).pow(2)).add(bCount.multiply(bMean.subtract(mean).pow(2)))\n",
    "        \n",
    "        bss = indices.map(ss)\n",
    "        return means.sort(bss).get([-1])\n",
    "\n",
    "        #### Return the mean value corresponding to the maximum BSS.\n",
    "    threshold = otsu(histogram)\n",
    "    return image.addBands(ndwi).set({'threshold': threshold}) # threshold is a property of the ndwi band of this image\n",
    "\n",
    "image_threshed = thresh(image)\n",
    "# url = image_threshed.getThumbUrl()\n",
    "# print(image_threshed)\n",
    "# IPython.display.Image(url=url, format='png', embed=True)\n",
    "# image_threshed.getInfo()"
   ]
  },
  {
   "cell_type": "code",
   "execution_count": 15,
   "metadata": {},
   "outputs": [
    {
     "ename": "AttributeError",
     "evalue": "module 'ee' has no attribute 'print'",
     "output_type": "error",
     "traceback": [
      "\u001b[1;31m---------------------------------------------------------------------------\u001b[0m",
      "\u001b[1;31mAttributeError\u001b[0m                            Traceback (most recent call last)",
      "\u001b[1;32m<ipython-input-15-f652b7bd9808>\u001b[0m in \u001b[0;36m<module>\u001b[1;34m()\u001b[0m\n\u001b[1;32m----> 1\u001b[1;33m \u001b[0mee\u001b[0m\u001b[1;33m.\u001b[0m\u001b[0mprint\u001b[0m\u001b[1;33m(\u001b[0m\u001b[0mimage_threshed\u001b[0m\u001b[1;33m.\u001b[0m\u001b[0mget\u001b[0m\u001b[1;33m(\u001b[0m\u001b[1;34m'threshold'\u001b[0m\u001b[1;33m)\u001b[0m\u001b[1;33m)\u001b[0m\u001b[1;33m\u001b[0m\u001b[0m\n\u001b[0m",
      "\u001b[1;31mAttributeError\u001b[0m: module 'ee' has no attribute 'print'"
     ]
    }
   ],
   "source": [
    "print(image_threshed.get('threshold'))"
   ]
  },
  {
   "cell_type": "code",
   "execution_count": null,
   "metadata": {},
   "outputs": [],
   "source": [
    "# image\n",
    "# image2\n",
    "image.getInfo()"
   ]
  },
  {
   "cell_type": "markdown",
   "metadata": {},
   "source": [
    "## Otsu thresholding from Donchyts et al. (2016)"
   ]
  },
  {
   "cell_type": "code",
   "execution_count": null,
   "metadata": {},
   "outputs": [],
   "source": [
    "# import ee\n",
    "# ee.Initialize()\n",
    "\n",
    "table = ee.FeatureCollection('users/sntopp/Lakes_ply_20171106')\n",
    "lakeNum = int(table.size().getInfo())\n",
    "lakes = table.toList(lakeNum) \n",
    "\n",
    "\n",
    "collectionL5 = ee.ImageCollection('LANDSAT/LT05/C01/T1_SR')    .filter(ee.Filter.eq('WRS_PATH', 15))    .filter(ee.Filter.eq('WRS_ROW', 36))    .set({'Mission': 'L5'})\n",
    "\n",
    "polygon = table.filter(ee.Filter.eq('GNIS_NAME', 'Salters Lake')).geometry()\n",
    "\n",
    "image = ee.Image(collectionL5.filterBounds(polygon).filter(ee.Filter.date('1994-06-19','1994-06-21')).first())\n",
    "\n",
    "ndwi = image.normalizedDifference(['B2','B5'])    #Landsat 5/7\n",
    "    #ndwi = image.normalizedDifference(['B3','B8'])       ##S2\n",
    "histogram = ndwi.reduceRegion(ee.Reducer.histogram(50).combine('mean', True).combine('variance', True),polygon.buffer(1500),100, True)\n",
    "\n",
    "\n",
    "def otsu(histogram):\n",
    "    counts = ee.Array(ee.Dictionary(histogram).get('histogram'))\n",
    "    means = ee.Array(ee.Dictionary(histogram).get('bucketMeans'))\n",
    "    size = means.length().get([0])\n",
    "    total = counts.reduce(ee.Reducer.sum(), [0]).get([0])\n",
    "    sums = means.multiply(counts).reduce(ee.Reducer.sum(), [0]).get([0])\n",
    "    mean = sums.divide(total)\n",
    "    indices = ee.List.sequence(1, size)\n",
    "  \n",
    "  ### Compute between sum of squares, where each mean partitions the data.\n",
    "    def thresh2(i):\n",
    "        aCounts = counts.slice(0, 0, i)\n",
    "        aCount = aCounts.reduce(ee.Reducer.sum(), [0]).get([0]);\n",
    "        aMeans = means.slice(0, 0, i);\n",
    "        aMean = aMeans.multiply(aCounts).reduce(ee.Reducer.sum(), [0]).get([0]).divide(aCount)\n",
    "        bCount = total.subtract(aCount)\n",
    "        bMean = sums.subtract(aCount.multiply(aMean)).divide(bCount)\n",
    "        return aCount.multiply(aMean.subtract(mean).pow(2)).add(bCount.multiply(bMean.subtract(mean).pow(2)))\n",
    "    bss = indices.map(thresh2)\n",
    "\n",
    "        #### Return the mean value corresponding to the maximum BSS.\n",
    "    return means.sort(bss).get([-1])\n",
    "\n",
    "threshold = otsu(histogram.get('nd_histogram'))\n",
    "water = ndwi.gt(threshold)\n",
    "cost = water.eq(0)\n",
    "sources = ee.Image().toByte().paint(polygon.centroid().buffer(50), 1)\n",
    "sources = sources.updateMask(sources)\n",
    "cumulativeCost = cost.cumulativeCost(sources, 8000)\n",
    "area = cumulativeCost.lt(1)\n",
    "area = area.updateMask(area)\n",
    "pArea = area.multiply(ee.Image.pixelArea())\n",
    "areaSum = pArea.reduceRegion(ee.Reducer.sum(),polygon.buffer(2000), 30) #need to use same resolution as input (30 landsat)\n",
    "image = ee.Image(image).set({\"Area\": areaSum.get(\"cumulative_cost\")})\n",
    "\n",
    "image.getInfo()\n",
    "\n",
    "\n",
    "# In[ ]:\n",
    "\n"
   ]
  },
  {
   "cell_type": "markdown",
   "metadata": {},
   "source": [
    "***\n",
    "## Notes"
   ]
  },
  {
   "cell_type": "markdown",
   "metadata": {},
   "source": [
    " - Canny edge detection and morphological dilation buffer? Used [here](https://www.mdpi.com/2072-4292/8/5/386)\n",
    " - Read [this](https://developers.google.com/earth-engine/client_server) on GEE server vs. client sides"
   ]
  },
  {
   "cell_type": "code",
   "execution_count": null,
   "metadata": {},
   "outputs": [],
   "source": []
  }
 ],
 "metadata": {
  "kernelspec": {
   "display_name": "Python (tensorflow)",
   "language": "python",
   "name": "tensorflow"
  },
  "language_info": {
   "codemirror_mode": {
    "name": "ipython",
    "version": 3
   },
   "file_extension": ".py",
   "mimetype": "text/x-python",
   "name": "python",
   "nbconvert_exporter": "python",
   "pygments_lexer": "ipython3",
   "version": "3.6.6"
  }
 },
 "nbformat": 4,
 "nbformat_minor": 2
}
