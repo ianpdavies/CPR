{
 "cells": [
  {
   "cell_type": "markdown",
   "metadata": {},
   "source": [
    "# Classifier Training"
   ]
  },
  {
   "cell_type": "markdown",
   "metadata": {},
   "source": [
    "***\n",
    "## Notes"
   ]
  },
  {
   "cell_type": "markdown",
   "metadata": {},
   "source": [
    " - http://www.deeplearningbook.org/contents/guidelines.html\n",
    " - Determine goals:\n",
    " - Establish end-to-end working pipeline:\n",
    " - Instrument  the system to determine bottlenecks in performance. Diagnose which components are performing worse, find over/underfitting, defect in data, etc.\n",
    " - Repeatedly make incremental changes (gathering new data, adjusting hyperparameters, changing algorithms) based on findings from instrumentation"
   ]
  },
  {
   "cell_type": "markdown",
   "metadata": {},
   "source": [
    "## Download exported tables locally for use with TensorFlow"
   ]
  },
  {
   "cell_type": "code",
   "execution_count": 1,
   "metadata": {},
   "outputs": [
    {
     "name": "stdout",
     "output_type": "stream",
     "text": [
      "Your browser has been opened to visit:\n",
      "\n",
      "    https://accounts.google.com/o/oauth2/auth?client_id=207798239714-s97urn6kn6eqj2li0l2k8ud9fudlqqbf.apps.googleusercontent.com&redirect_uri=http%3A%2F%2Flocalhost%3A8080%2F&scope=https%3A%2F%2Fwww.googleapis.com%2Fauth%2Fdrive&access_type=offline&response_type=code\n",
      "\n",
      "Authentication successful.\n"
     ]
    }
   ],
   "source": [
    "# Authenticate Google Drive access\n",
    "# following guide: https://gsuitedevs.github.io/PyDrive/docs/build/html/quickstart.html\n",
    "# Need client_secrets.json file for auth to work -- I put it in 'notebooks' folder, but how can we put it somewhere more appropriate and still have the auth find it?\n",
    "from pydrive.auth import GoogleAuth\n",
    "\n",
    "gauth = GoogleAuth()\n",
    "gauth.LocalWebserverAuth()"
   ]
  },
  {
   "cell_type": "code",
   "execution_count": 3,
   "metadata": {},
   "outputs": [
    {
     "name": "stdout",
     "output_type": "stream",
     "text": [
      "title: sample_points_test_2013to15.csv, id: 1isO3p6bkSivCO50jNVEaAxSLzxhknqCf\n",
      "title: sample_points.csv, id: 1v-tsHqTdEMPVgasYd5SzPfxtBBSb3LgO\n"
     ]
    }
   ],
   "source": [
    "from pydrive.drive import GoogleDrive\n",
    "drive = GoogleDrive(gauth)\n",
    "\n",
    "# list files in root folder\n",
    "file_list = drive.ListFile({'q': \"'root' in parents and trashed=false\"}).GetList()\n",
    "\n",
    "# Get file id of export folder we're saving tables to\n",
    "exportFolderID = [file['id'] for file in file_list if file['title']=='GEE_exports'][0] \n",
    "\n",
    "# lists files in export folder\n",
    "file_list = drive.ListFile({'q': \"'\" + exportFolderID + \"' in parents and trashed=false\"}).GetList()\n",
    "for file1 in file_list:\n",
    "    print('title: %s, id: %s' % (file1['title'], file1['id']))\n",
    "    \n",
    "# Save all files locally\n",
    "for i in range(len(file_list)):\n",
    "    file_list[i].GetContentFile('../Data/' + file_list[i]['title'])"
   ]
  },
  {
   "cell_type": "markdown",
   "metadata": {},
   "source": [
    "## Playing with TensorFlow"
   ]
  },
  {
   "cell_type": "code",
   "execution_count": null,
   "metadata": {},
   "outputs": [],
   "source": [
    "import numpy as np\n",
    "import tensorflow as tf"
   ]
  },
  {
   "cell_type": "markdown",
   "metadata": {},
   "source": [
    "## Random Forest"
   ]
  },
  {
   "cell_type": "code",
   "execution_count": null,
   "metadata": {},
   "outputs": [],
   "source": []
  },
  {
   "cell_type": "code",
   "execution_count": null,
   "metadata": {},
   "outputs": [],
   "source": []
  },
  {
   "cell_type": "markdown",
   "metadata": {},
   "source": [
    "## Neural Network"
   ]
  },
  {
   "cell_type": "code",
   "execution_count": null,
   "metadata": {},
   "outputs": [],
   "source": []
  },
  {
   "cell_type": "code",
   "execution_count": null,
   "metadata": {},
   "outputs": [],
   "source": []
  },
  {
   "cell_type": "markdown",
   "metadata": {},
   "source": [
    "## SVM"
   ]
  },
  {
   "cell_type": "code",
   "execution_count": 5,
   "metadata": {},
   "outputs": [],
   "source": [
    "import numpy as np\n",
    "import pandas as pd\n",
    "import sklearn\n",
    "from sklearn.model_selection import train_test_split\n",
    "from sklearn.model_selection import cross_val_score\n",
    "# from sklearn.model_selection import GridSearchCV"
   ]
  },
  {
   "cell_type": "code",
   "execution_count": 24,
   "metadata": {},
   "outputs": [
    {
     "name": "stdout",
     "output_type": "stream",
     "text": [
      "['sample_points.csv', 'sample_points_test_2013to15.csv']\n"
     ]
    },
    {
     "data": {
      "text/plain": [
       "34000"
      ]
     },
     "execution_count": 24,
     "metadata": {},
     "output_type": "execute_result"
    }
   ],
   "source": []
  },
  {
   "cell_type": "code",
   "execution_count": 25,
   "metadata": {},
   "outputs": [
    {
     "name": "stdout",
     "output_type": "stream",
     "text": [
      "['sample_points.csv', 'sample_points_test_2013to15.csv']\n",
      " Is NaN?: True \n",
      " Is inf?: False\n",
      "         aspect     curve  elevation  flooded      hand  percent_tree_cover  \\\n",
      "0      0.109698  0.479518   0.165285      0.0  0.000000                0.00   \n",
      "1      0.860799  0.453012   0.243296      0.0  0.005270                0.00   \n",
      "2      0.777279  0.479518   0.464164      0.0  0.015810                0.00   \n",
      "3      0.797801  0.450602   0.315456      0.0  0.152833                0.00   \n",
      "4      0.412068  0.438554   0.303023      0.0  0.006588                0.00   \n",
      "5      0.421486  0.462651   0.235739      0.0  0.027668                0.00   \n",
      "6      0.751797  0.453012   0.209654      0.0  0.007905                0.00   \n",
      "7      0.110680  0.443373   0.349586      0.0  0.009223                0.00   \n",
      "8      0.860405  0.443373   0.223549      0.0  0.075099                0.00   \n",
      "9      0.546616  0.481928   0.400536      0.0  0.188406                0.19   \n",
      "10     0.402875  0.469880   0.174549      0.0  0.030303                0.00   \n",
      "11     0.250599  0.453012   0.314725      0.0  0.026350                0.00   \n",
      "12     0.808142  0.448193   0.572647      0.0  0.056653                0.13   \n",
      "13     0.273236  0.513253   0.213067      0.0  0.036891                0.00   \n",
      "14     0.185561  0.419277   0.364700      0.0  0.272727                0.00   \n",
      "15     0.860099  0.472289   0.329839      0.0  0.011858                0.00   \n",
      "16     0.679879  0.448193   0.505851      0.0  0.007905                0.62   \n",
      "17     0.690366  0.453012   0.358606      0.0  0.023715                0.14   \n",
      "18     0.012311  0.450602   0.100195      0.0  0.125165                0.01   \n",
      "19     0.644206  0.465060   0.303267      0.0  0.000000                0.00   \n",
      "20     0.159807  0.462651   0.532423      0.0  0.143610                0.18   \n",
      "21     0.712449  0.462651   0.118235      0.0  0.267457                0.00   \n",
      "22     0.312143  0.424096   0.183325      0.0  0.006588                0.00   \n",
      "23     0.860783  0.453012   0.238420      0.0  0.002635                0.00   \n",
      "24     0.189634  0.438554   0.330083      0.0  0.010540                0.00   \n",
      "25     0.810541  0.503614   0.517796      0.0  0.011858                0.48   \n",
      "26     0.000000  0.445783   0.141638      0.0  0.003953                0.00   \n",
      "27     0.156129  0.457831   0.360312      0.0  0.064559                0.00   \n",
      "28     0.501198  0.443373   0.228181      0.0  0.005270                0.00   \n",
      "29     0.474869  0.532530   0.312774      0.0  0.213439                0.01   \n",
      "...         ...       ...        ...      ...       ...                 ...   \n",
      "28771  0.000000  0.455422   0.062652      1.0  0.000000                0.01   \n",
      "28772  0.000000  0.455422   0.062652      1.0  0.000000                0.00   \n",
      "28773  0.000000  0.455422   0.062652      1.0  0.000000                0.00   \n",
      "28774  0.000000  0.455422   0.062652      1.0  0.000000                0.00   \n",
      "28775  0.000000  0.455422   0.062652      1.0  0.000000                0.00   \n",
      "28776  0.000000  0.455422   0.062652      1.0  0.000000                0.00   \n",
      "28777  0.000000  0.455422   0.062652      1.0  0.000000                0.00   \n",
      "28778  0.000000  0.455422   0.062896      1.0  0.000000                0.01   \n",
      "28779  0.000000  0.455422   0.062652      1.0  0.000000                0.00   \n",
      "28780  0.000000  0.455422   0.062652      1.0  0.000000                0.01   \n",
      "28781  0.000000  0.455422   0.062652      1.0  0.000000                0.00   \n",
      "28782  0.000000  0.455422   0.062652      1.0  0.000000                0.00   \n",
      "28783  0.000000  0.455422   0.062652      1.0  0.000000                0.00   \n",
      "28784  0.000000  0.455422   0.062652      1.0  0.000000                0.01   \n",
      "28785  0.000000  0.455422   0.062652      1.0  0.000000                0.00   \n",
      "28786  0.000000  0.455422   0.062652      1.0  0.000000                0.00   \n",
      "28787  0.000000  0.455422   0.062652      1.0  0.000000                0.00   \n",
      "28788  0.000000  0.455422   0.062652      1.0  0.000000                0.00   \n",
      "28789  0.000000  0.455422   0.062652      1.0  0.000000                0.01   \n",
      "28790  0.000000  0.455422   0.062896      1.0  0.000000                0.04   \n",
      "28791  0.000000  0.455422   0.062652      1.0  0.000000                0.00   \n",
      "28792  0.000000  0.455422   0.062652      1.0  0.000000                0.00   \n",
      "28793  0.000000  0.455422   0.062652      1.0  0.000000                0.00   \n",
      "28794  0.000000  0.455422   0.062652      1.0  0.000000                0.01   \n",
      "28795  0.000000  0.455422   0.062652      1.0  0.000000                0.00   \n",
      "28796  0.000000  0.455422   0.062652      1.0  0.000000                0.01   \n",
      "28797  0.000000  0.455422   0.062652      1.0  0.000000                0.01   \n",
      "28798  0.000000  0.455422   0.062652      1.0  0.000000                0.00   \n",
      "28799  0.000000  0.455422   0.062652      1.0  0.000000                0.00   \n",
      "28800  0.000000  0.455422   0.062652      1.0  0.000000                0.00   \n",
      "\n",
      "       impervious     slope           spi       twi       ...        \\\n",
      "0            0.00  0.051284  1.164493e-07  0.087687       ...         \n",
      "1            0.00  0.020948  4.767886e-08  0.112117       ...         \n",
      "2            0.00  0.164093  2.229996e-06  0.104437       ...         \n",
      "3            0.00  0.182935  8.401760e-07  0.071915       ...         \n",
      "4            0.00  0.031184  2.441881e-07  0.134886       ...         \n",
      "5            0.00  0.134404  3.070981e-07  0.061490       ...         \n",
      "6            0.02  0.032342  1.109008e-07  0.111444       ...         \n",
      "7            0.00  0.051545  4.624385e-07  0.124902       ...         \n",
      "8            0.00  0.104509  4.744082e-07  0.087073       ...         \n",
      "9            0.00  0.278162  9.645568e-07  0.052382       ...         \n",
      "10           0.00  0.112748  3.824980e-07  0.077072       ...         \n",
      "11           0.00  0.065207  1.477539e-07  0.081082       ...         \n",
      "12           0.00  0.187834  4.290450e-07  0.052187       ...         \n",
      "13           0.00  0.424781  2.468353e-06  0.053707       ...         \n",
      "14           0.00  0.257981  5.922332e-07  0.043340       ...         \n",
      "15           0.00  0.104754  2.486925e-06  0.131985       ...         \n",
      "16           0.00  0.090708  2.049636e-07  0.071988       ...         \n",
      "17           0.00  0.239419  1.125681e-05  0.127565       ...         \n",
      "18           0.00  0.207683  7.104213e-07  0.060346       ...         \n",
      "19           0.00  0.021179  1.183869e-07  0.136246       ...         \n",
      "20           0.00  0.423802  9.946579e-07  0.029132       ...         \n",
      "21           0.00  0.478423  1.131741e-06  0.025464       ...         \n",
      "22           0.00  0.070136  1.594335e-07  0.079180       ...         \n",
      "23           0.00  0.020951  7.151274e-08  0.123131       ...         \n",
      "24           0.00  0.140486  3.170621e-07  0.059932       ...         \n",
      "25           0.00  0.314264  3.287515e-06  0.078837       ...         \n",
      "26           0.00  0.013226  2.999960e-08  0.124526       ...         \n",
      "27           0.00  0.117675  9.322830e-07  0.098954       ...         \n",
      "28           0.00  0.026446  1.661587e-06  0.195981       ...         \n",
      "29           0.00  0.445907  1.055191e-06  0.027746       ...         \n",
      "...           ...       ...           ...       ...       ...         \n",
      "28771        0.00  0.000000  1.117002e-16  0.558438       ...         \n",
      "28772        0.00  0.000000  1.344873e-14  0.604663       ...         \n",
      "28773        0.00  0.000000  1.135526e-16  0.558455       ...         \n",
      "28774        0.00  0.000000  1.937104e-14  0.613082       ...         \n",
      "28775        0.00  0.000000  1.049380e-16  0.558376       ...         \n",
      "28776        0.00  0.000000  1.607806e-15  0.569499       ...         \n",
      "28777        0.00  0.000000  1.133371e-16  0.558453       ...         \n",
      "28778        0.00  0.000000  7.042365e-17  0.558059       ...         \n",
      "28779        0.00  0.000000  1.048023e-14  0.599204       ...         \n",
      "28780        0.00  0.000000  1.187589e-16  0.558502       ...         \n",
      "28781        0.00  0.000000  9.150654e-17  0.558253       ...         \n",
      "28782        0.00  0.000000  1.594935e-15  0.569420       ...         \n",
      "28783        0.00  0.000000  1.114720e-16  0.558436       ...         \n",
      "28784        0.00  0.000000  1.124109e-16  0.558445       ...         \n",
      "28785        0.00  0.000000  2.989366e-14  0.623614       ...         \n",
      "28786        0.00  0.000000  1.117510e-16  0.558439       ...         \n",
      "28787        0.00  0.000000  1.125887e-16  0.558446       ...         \n",
      "28788        0.00  0.000000  1.350694e-14  0.604760       ...         \n",
      "28789        0.00  0.000000  1.081945e-16  0.558406       ...         \n",
      "28790        0.00  0.000000  4.472261e-15  0.582947       ...         \n",
      "28791        0.00  0.000000  1.109641e-16  0.558431       ...         \n",
      "28792        0.00  0.000000  3.067432e-15  0.577172       ...         \n",
      "28793        0.00  0.000000  1.140599e-16  0.558460       ...         \n",
      "28794        0.00  0.000000  4.552134e-15  0.583241       ...         \n",
      "28795        0.00  0.000000  1.575729e-15  0.569303       ...         \n",
      "28796        0.00  0.000000  1.614583e-15  0.569540       ...         \n",
      "28797        0.00  0.000000  1.203986e-13  0.659638       ...         \n",
      "28798        0.00  0.000000  1.051925e-16  0.558379       ...         \n",
      "28799        0.00  0.000000  1.182401e-16  0.558498       ...         \n",
      "28800        0.00  0.000000  1.599491e-15  0.569448       ...         \n",
      "\n",
      "       dev_medInt  dev_openSpace  emergent_wetlands  evergreen_forest  \\\n",
      "0             0.0            0.0                0.0               0.0   \n",
      "1             0.0            0.0                0.0               0.0   \n",
      "2             0.0            0.0                0.0               0.0   \n",
      "3             0.0            0.0                0.0               0.0   \n",
      "4             0.0            0.0                0.0               0.0   \n",
      "5             0.0            0.0                0.0               0.0   \n",
      "6             0.0            0.0                0.0               0.0   \n",
      "7             0.0            0.0                0.0               0.0   \n",
      "8             0.0            0.0                0.0               0.0   \n",
      "9             0.0            0.0                0.0               1.0   \n",
      "10            0.0            0.0                0.0               0.0   \n",
      "11            0.0            0.0                0.0               0.0   \n",
      "12            0.0            0.0                0.0               0.0   \n",
      "13            0.0            0.0                0.0               0.0   \n",
      "14            0.0            0.0                0.0               0.0   \n",
      "15            0.0            0.0                0.0               0.0   \n",
      "16            0.0            0.0                0.0               1.0   \n",
      "17            0.0            0.0                0.0               0.0   \n",
      "18            0.0            0.0                0.0               0.0   \n",
      "19            0.0            0.0                0.0               0.0   \n",
      "20            0.0            0.0                0.0               0.0   \n",
      "21            0.0            0.0                0.0               0.0   \n",
      "22            0.0            0.0                0.0               0.0   \n",
      "23            0.0            0.0                0.0               0.0   \n",
      "24            0.0            0.0                0.0               0.0   \n",
      "25            0.0            0.0                0.0               1.0   \n",
      "26            0.0            0.0                0.0               0.0   \n",
      "27            0.0            0.0                0.0               0.0   \n",
      "28            0.0            0.0                0.0               0.0   \n",
      "29            0.0            0.0                0.0               0.0   \n",
      "...           ...            ...                ...               ...   \n",
      "28771         0.0            0.0                0.0               0.0   \n",
      "28772         0.0            0.0                0.0               0.0   \n",
      "28773         0.0            0.0                0.0               0.0   \n",
      "28774         0.0            0.0                0.0               0.0   \n",
      "28775         0.0            0.0                0.0               0.0   \n",
      "28776         0.0            0.0                0.0               0.0   \n",
      "28777         0.0            0.0                0.0               0.0   \n",
      "28778         0.0            0.0                0.0               0.0   \n",
      "28779         0.0            0.0                0.0               0.0   \n",
      "28780         0.0            0.0                0.0               0.0   \n",
      "28781         0.0            0.0                0.0               0.0   \n",
      "28782         0.0            0.0                0.0               0.0   \n",
      "28783         0.0            0.0                0.0               0.0   \n",
      "28784         0.0            0.0                0.0               0.0   \n",
      "28785         0.0            0.0                0.0               0.0   \n",
      "28786         0.0            0.0                0.0               0.0   \n",
      "28787         0.0            0.0                0.0               0.0   \n",
      "28788         0.0            0.0                0.0               0.0   \n",
      "28789         0.0            0.0                0.0               0.0   \n",
      "28790         0.0            0.0                0.0               0.0   \n",
      "28791         0.0            0.0                0.0               0.0   \n",
      "28792         0.0            0.0                0.0               0.0   \n",
      "28793         0.0            0.0                0.0               0.0   \n",
      "28794         0.0            0.0                0.0               0.0   \n",
      "28795         0.0            0.0                0.0               0.0   \n",
      "28796         0.0            0.0                0.0               0.0   \n",
      "28797         0.0            0.0                0.0               0.0   \n",
      "28798         0.0            0.0                0.0               0.0   \n",
      "28799         0.0            0.0                0.0               0.0   \n",
      "28800         0.0            0.0                0.0               0.0   \n",
      "\n",
      "       grassland  mixed_forest  open_water  pasture  shrub  woody_wetlands  \n",
      "0            0.0           0.0         0.0      0.0    1.0             0.0  \n",
      "1            0.0           0.0         0.0      0.0    1.0             0.0  \n",
      "2            0.0           0.0         0.0      0.0    1.0             0.0  \n",
      "3            0.0           0.0         0.0      0.0    1.0             0.0  \n",
      "4            0.0           0.0         0.0      0.0    1.0             0.0  \n",
      "5            0.0           0.0         0.0      0.0    1.0             0.0  \n",
      "6            0.0           0.0         0.0      0.0    1.0             0.0  \n",
      "7            0.0           0.0         0.0      0.0    1.0             0.0  \n",
      "8            0.0           0.0         0.0      0.0    1.0             0.0  \n",
      "9            0.0           0.0         0.0      0.0    0.0             0.0  \n",
      "10           0.0           0.0         0.0      0.0    1.0             0.0  \n",
      "11           0.0           0.0         0.0      0.0    1.0             0.0  \n",
      "12           0.0           0.0         0.0      0.0    1.0             0.0  \n",
      "13           0.0           0.0         0.0      0.0    1.0             0.0  \n",
      "14           0.0           0.0         0.0      0.0    1.0             0.0  \n",
      "15           0.0           0.0         0.0      0.0    1.0             0.0  \n",
      "16           0.0           0.0         0.0      0.0    0.0             0.0  \n",
      "17           0.0           0.0         0.0      0.0    1.0             0.0  \n",
      "18           1.0           0.0         0.0      0.0    0.0             0.0  \n",
      "19           0.0           0.0         0.0      0.0    0.0             0.0  \n",
      "20           0.0           0.0         0.0      0.0    1.0             0.0  \n",
      "21           0.0           0.0         0.0      0.0    1.0             0.0  \n",
      "22           0.0           0.0         0.0      0.0    1.0             0.0  \n",
      "23           0.0           0.0         0.0      0.0    1.0             0.0  \n",
      "24           0.0           0.0         0.0      0.0    1.0             0.0  \n",
      "25           0.0           0.0         0.0      0.0    0.0             0.0  \n",
      "26           0.0           0.0         0.0      0.0    0.0             0.0  \n",
      "27           0.0           0.0         0.0      0.0    1.0             0.0  \n",
      "28           0.0           0.0         0.0      0.0    1.0             0.0  \n",
      "29           0.0           0.0         0.0      0.0    1.0             0.0  \n",
      "...          ...           ...         ...      ...    ...             ...  \n",
      "28771        0.0           0.0         1.0      0.0    0.0             0.0  \n",
      "28772        0.0           0.0         1.0      0.0    0.0             0.0  \n",
      "28773        0.0           0.0         1.0      0.0    0.0             0.0  \n",
      "28774        0.0           0.0         1.0      0.0    0.0             0.0  \n",
      "28775        0.0           0.0         1.0      0.0    0.0             0.0  \n",
      "28776        0.0           0.0         1.0      0.0    0.0             0.0  \n",
      "28777        0.0           0.0         1.0      0.0    0.0             0.0  \n",
      "28778        0.0           0.0         1.0      0.0    0.0             0.0  \n",
      "28779        0.0           0.0         1.0      0.0    0.0             0.0  \n",
      "28780        0.0           0.0         1.0      0.0    0.0             0.0  \n",
      "28781        0.0           0.0         1.0      0.0    0.0             0.0  \n",
      "28782        0.0           0.0         1.0      0.0    0.0             0.0  \n",
      "28783        0.0           0.0         1.0      0.0    0.0             0.0  \n",
      "28784        0.0           0.0         1.0      0.0    0.0             0.0  \n",
      "28785        0.0           0.0         1.0      0.0    0.0             0.0  \n",
      "28786        0.0           0.0         1.0      0.0    0.0             0.0  \n",
      "28787        0.0           0.0         1.0      0.0    0.0             0.0  \n",
      "28788        0.0           0.0         1.0      0.0    0.0             0.0  \n",
      "28789        0.0           0.0         1.0      0.0    0.0             0.0  \n",
      "28790        0.0           0.0         1.0      0.0    0.0             0.0  \n",
      "28791        0.0           0.0         1.0      0.0    0.0             0.0  \n",
      "28792        0.0           0.0         1.0      0.0    0.0             0.0  \n",
      "28793        0.0           0.0         1.0      0.0    0.0             0.0  \n",
      "28794        0.0           0.0         1.0      0.0    0.0             0.0  \n",
      "28795        0.0           0.0         1.0      0.0    0.0             0.0  \n",
      "28796        0.0           0.0         1.0      0.0    0.0             0.0  \n",
      "28797        0.0           0.0         1.0      0.0    0.0             0.0  \n",
      "28798        0.0           0.0         1.0      0.0    0.0             0.0  \n",
      "28799        0.0           0.0         1.0      0.0    0.0             0.0  \n",
      "28800        0.0           0.0         1.0      0.0    0.0             0.0  \n",
      "\n",
      "[28801 rows x 25 columns]\n",
      "Training data and target sizes: \n",
      "(19296, 24), (19296,)\n",
      "Test data and target sizes: \n",
      "(9505, 24), (9505,)\n"
     ]
    },
    {
     "name": "stdout",
     "output_type": "stream",
     "text": [
      "Support Vector Machine Best Score: 0.8276844941956882\n",
      "Best C: 0.001\n",
      "Best tol: 1.0\n"
     ]
    }
   ],
   "source": [
    "# CSV of sample points with features\n",
    "import os\n",
    "files = os.listdir(\"../Data\")\n",
    "print(files)\n",
    "points = pd.DataFrame()\n",
    "for i in range(len(files)):\n",
    "    new_points = pd.read_csv(\"../Data/\" + files[i])\n",
    "    points = points.append(new_points, ignore_index=True)\n",
    "\n",
    "df = points.copy()\n",
    "dropCols = pd.concat([df.pop(x) for x in ['imageID', 'latitude','longitude']]) # Pop out imageID, lat, lon so we can check NaN and inf. \n",
    "\n",
    "# Check presence of infinite or NaN values\n",
    "print(' Is NaN?:', np.any(np.isnan(df)), \"\\n\",\n",
    "     'Is inf?:', not np.any(np.isfinite(df)))\n",
    "\n",
    "# Remove NaN\n",
    "df = df.dropna()\n",
    "\n",
    "# Recode landcover categories as dummy variables\n",
    "# Probably want to remove impervious as well, or collapse some of the landcover types\n",
    "nlcd_dict = {11:'open_water', # Dict of landcover values\n",
    "             12:'perm_snowIce',\n",
    "             21:'dev_openSpace',\n",
    "             22:'dev_lowInt',\n",
    "             23:'dev_medInt',\n",
    "             24:'dev_highInt',\n",
    "             31:'barren',\n",
    "             41:'decid_forest',\n",
    "             42:'evergreen_forest',\n",
    "             43:'mixed_forest',\n",
    "             51:'dwarf_scrub',\n",
    "             52:'shrub',\n",
    "             71:'grassland',\n",
    "             72:'sedge',\n",
    "             73:'lichens',\n",
    "             74:'moss',\n",
    "             81:'pasture',\n",
    "             82:'crops',\n",
    "             90:'woody_wetlands',\n",
    "             95:'emergent_wetlands'}\n",
    "\n",
    "df = df.replace({'landcover':nlcd_dict})\n",
    "\n",
    "dummies = pd.get_dummies(df['landcover']).rename(columns=lambda x: str(x)) # Convert categorical feature to dummy vars\n",
    "df = pd.concat([df, dummies], axis=1) # Concat with other features\n",
    "df = df.drop(['landcover'], axis=1) # Drop categorical landcover feature\n",
    "# df = df.reset_index()\n",
    "\n",
    "# Rescale values\n",
    "from sklearn.preprocessing import MinMaxScaler\n",
    "scaler = MinMaxScaler()\n",
    "df_scaled = pd.DataFrame(scaler.fit_transform(df), columns=df.columns)\n",
    "# df_scaled = pd.concat([df_scaled, pd.DataFrame(imageID)]) # Add imageID back. Converting to NaN when I concat so leaving out for now\n",
    "\n",
    "print(df_scaled)\n",
    "\n",
    "# Separate features and target\n",
    "Y = df.pop('flooded') # Target feature, drop from features\n",
    "X = df # Features\n",
    "\n",
    "# Split data into training and testing sets (split once, use it )\n",
    "X_train, X_test, y_train, y_test = train_test_split(X, Y, test_size=0.33)\n",
    "\n",
    "# Remove rows with NaN\n",
    "X_train.dropna()\n",
    "X_test.dropna()\n",
    "y_train.dropna()\n",
    "y_test.dropna()\n",
    "\n",
    "print('Training data and target sizes: \\n{}, {}'.format(X_train.shape,y_train.shape))\n",
    "print('Test data and target sizes: \\n{}, {}'.format(X_test.shape,y_test.shape))\n",
    "\n",
    "from sklearn.svm import LinearSVC\n",
    "from sklearn.model_selection import GridSearchCV\n",
    "\n",
    "# Grid of values for tuning hyperparameters\n",
    "# C is the \n",
    "\n",
    "grid = [{'C': [0.0001, 0.001, 0.01, 0.1, 1.0],\n",
    "         'tol': [0.0001, 0.001, 0.01, 0.1, 1.0]}]\n",
    "\n",
    "model = LinearSVC()\n",
    "\n",
    "gridcv = GridSearchCV(estimator=model, param_grid=grid, return_train_score=True)\n",
    "gridcv.fit(X_train, y_train)\n",
    "print('Support Vector Machine Best Score: ' + str(gridcv.best_score_))\n",
    "print('Best C: ' + str(gridcv.best_estimator_.C))\n",
    "print('Best tol: ' + str(gridcv.best_estimator_.tol))"
   ]
  },
  {
   "cell_type": "code",
   "execution_count": 26,
   "metadata": {},
   "outputs": [
    {
     "data": {
      "text/plain": [
       "LinearSVC(C=0.001, class_weight=None, dual=True, fit_intercept=True,\n",
       "     intercept_scaling=1, loss='squared_hinge', max_iter=1000,\n",
       "     multi_class='ovr', penalty='l2', random_state=0, tol=1.0, verbose=0)"
      ]
     },
     "execution_count": 26,
     "metadata": {},
     "output_type": "execute_result"
    }
   ],
   "source": [
    "clf = LinearSVC(C = gridcv.best_estimator_.C, \n",
    "                 tol=gridcv.best_estimator_.tol,\n",
    "                 random_state=0)\n",
    "clf.fit(X_train, y_train)"
   ]
  },
  {
   "cell_type": "code",
   "execution_count": 27,
   "metadata": {},
   "outputs": [
    {
     "name": "stdout",
     "output_type": "stream",
     "text": [
      "Classification report for classifier LinearSVC(C=0.001, class_weight=None, dual=True, fit_intercept=True,\n",
      "     intercept_scaling=1, loss='squared_hinge', max_iter=1000,\n",
      "     multi_class='ovr', penalty='l2', random_state=0, tol=1.0, verbose=0):\n",
      "             precision    recall  f1-score   support\n",
      "\n",
      "        0.0       0.81      0.95      0.88      5183\n",
      "        1.0       0.93      0.73      0.82      4322\n",
      "\n",
      "avg / total       0.86      0.85      0.85      9505\n",
      "\n",
      "\n"
     ]
    }
   ],
   "source": [
    "# Performance metrics\n",
    "from sklearn import metrics\n",
    "y_pred = clf.predict(X_test)\n",
    "\n",
    "print(\"Classification report for classifier %s:\\n%s\\n\"\n",
    "      % (clf, metrics.classification_report(y_test, y_pred)))"
   ]
  },
  {
   "cell_type": "code",
   "execution_count": 28,
   "metadata": {},
   "outputs": [
    {
     "name": "stdout",
     "output_type": "stream",
     "text": [
      "                  flooded notFlooded \n",
      "       flooded       52.0        2.5 \n",
      "    notFlooded       12.1       33.3 \n"
     ]
    }
   ],
   "source": [
    "# Confusion matrix\n",
    "def print_cm(cm, labels, hide_zeroes=False, hide_diagonal=False, hide_threshold=None):\n",
    "    \"\"\"pretty print for confusion matrixes\"\"\"\n",
    "    columnwidth = max([len(x) for x in labels] + [5])  # 5 is value length\n",
    "    empty_cell = \" \" * columnwidth\n",
    "    # Print header\n",
    "    print(\"    \" + empty_cell, end=\" \")\n",
    "    for label in labels:\n",
    "        print(\"%{0}s\".format(columnwidth) % label, end=\" \")\n",
    "    print()\n",
    "    # Print rows\n",
    "    for i, label1 in enumerate(labels):\n",
    "        print(\"    %{0}s\".format(columnwidth) % label1, end=\" \")\n",
    "        for j in range(len(labels)):\n",
    "            cell = \"%{0}.1f\".format(columnwidth) % cm[i, j]\n",
    "            if hide_zeroes:\n",
    "                cell = cell if float(cm[i, j]) != 0 else empty_cell\n",
    "            if hide_diagonal:\n",
    "                cell = cell if i != j else empty_cell\n",
    "            if hide_threshold:\n",
    "                cell = cell if cm[i, j] > hide_threshold else empty_cell\n",
    "            print(cell, end=\" \")\n",
    "        print()\n",
    "\n",
    "print_cm(metrics.confusion_matrix(y_test, y_pred)/len(y_pred)*100, labels=['flooded','notFlooded'])\n",
    "\n",
    "# Top row = predicted, left col = true"
   ]
  },
  {
   "cell_type": "code",
   "execution_count": null,
   "metadata": {},
   "outputs": [],
   "source": [
    "def compute_rmse(predictions, yvalues):\n",
    "    rmse = math.sqrt((sum((predictions - yvalues)**2))/len(yvalues))\n",
    "    return rmse"
   ]
  },
  {
   "cell_type": "code",
   "execution_count": null,
   "metadata": {},
   "outputs": [],
   "source": [
    "# # Benchmark training time\n",
    "# start_time1 = time.time()\n",
    "# time1 = str(round(time.time() - start_time1, 2))\n",
    "# print(time1 + \" seconds\")"
   ]
  }
 ],
 "metadata": {
  "kernelspec": {
   "display_name": "Python 3",
   "language": "python",
   "name": "python3"
  },
  "language_info": {
   "codemirror_mode": {
    "name": "ipython",
    "version": 3
   },
   "file_extension": ".py",
   "mimetype": "text/x-python",
   "name": "python",
   "nbconvert_exporter": "python",
   "pygments_lexer": "ipython3",
   "version": "3.6.6"
  }
 },
 "nbformat": 4,
 "nbformat_minor": 2
}
