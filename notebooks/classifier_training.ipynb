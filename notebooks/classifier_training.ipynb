{
 "cells": [
  {
   "cell_type": "markdown",
   "metadata": {},
   "source": [
    "# Classifier Training"
   ]
  },
  {
   "cell_type": "markdown",
   "metadata": {},
   "source": [
    "***\n",
    "## Notes"
   ]
  },
  {
   "cell_type": "markdown",
   "metadata": {},
   "source": [
    " - ."
   ]
  },
  {
   "cell_type": "markdown",
   "metadata": {},
   "source": [
    "## Download exported tables locally for use with TensorFlow"
   ]
  },
  {
   "cell_type": "code",
   "execution_count": null,
   "metadata": {},
   "outputs": [],
   "source": [
    "# Authenticate Google Drive access\n",
    "# following guide: https://gsuitedevs.github.io/PyDrive/docs/build/html/quickstart.html\n",
    "# Need client_secrets.json file for auth to work -- I put it in 'notebooks' folder, but how can we put it somewhere more appropriate and still have the auth find it?\n",
    "from pydrive.auth import GoogleAuth\n",
    "\n",
    "gauth = GoogleAuth()\n",
    "gauth.LocalWebserverAuth()"
   ]
  },
  {
   "cell_type": "code",
   "execution_count": null,
   "metadata": {},
   "outputs": [],
   "source": [
    "from pydrive.drive import GoogleDrive\n",
    "drive = GoogleDrive(gauth)\n",
    "\n",
    "# list files in root folder\n",
    "file_list = drive.ListFile({'q': \"'root' in parents and trashed=false\"}).GetList()\n",
    "\n",
    "# Get file id of export folder we're saving tables to\n",
    "exportFolderID = [file['id'] for file in file_list if file['title']=='GEE_exports'][0] \n",
    "\n",
    "# lists files in export folder\n",
    "file_list = drive.ListFile({'q': \"'\" + exportFolderID + \"' in parents and trashed=false\"}).GetList()\n",
    "for file1 in file_list:\n",
    "    print('title: %s, id: %s' % (file1['title'], file1['id']))\n",
    "    \n",
    "file_list[0].GetContentFile('scene1_sample_pts.csv')"
   ]
  }
 ],
 "metadata": {
  "kernelspec": {
   "display_name": "Python 3",
   "language": "python",
   "name": "python3"
  },
  "language_info": {
   "codemirror_mode": {
    "name": "ipython",
    "version": 3
   },
   "file_extension": ".py",
   "mimetype": "text/x-python",
   "name": "python",
   "nbconvert_exporter": "python",
   "pygments_lexer": "ipython3",
   "version": "3.6.6"
  }
 },
 "nbformat": 4,
 "nbformat_minor": 2
}
