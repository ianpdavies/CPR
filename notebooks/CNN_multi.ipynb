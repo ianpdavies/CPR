{
 "cells": [
  {
   "cell_type": "markdown",
   "metadata": {},
   "source": [
    "# Testing the performance of CNNs on different flood images, cloud cover %"
   ]
  },
  {
   "cell_type": "code",
   "execution_count": 2,
   "metadata": {},
   "outputs": [],
   "source": [
    "import ee\n",
    "from IPython import display\n",
    "# import math\n",
    "import pandas as pd\n",
    "from matplotlib import pyplot as plt\n",
    "import numpy as np\n",
    "# from osgeo import gdal\n",
    "# import tempfile\n",
    "import tensorflow as tf\n",
    "# import urllib\n",
    "import rasterio\n",
    "from zipfile import *\n",
    "\n",
    "\n"
   ]
  },
  {
   "cell_type": "code",
   "execution_count": 2,
   "metadata": {},
   "outputs": [],
   "source": [
    "# path_clear = 'C:/Users/ipdavies/CPR/data/images/clear_4337_LC08_026038_20160325'\n",
    "# path_clouds = 'C:/Users/ipdavies/CPR/data/images/clouds_4337_LC08_026038_20160325'\n",
    "# model_name = 'cnn2'\n",
    "# model_path = 'C:/Users/ipdavies/CPR/data/models/'+model_name+'/'"
   ]
  },
  {
   "cell_type": "code",
   "execution_count": 27,
   "metadata": {},
   "outputs": [],
   "source": [
    "# path = 'C:/Users/ipdavies/CPR/data/images/4337_LC08_026038_20160325_1/4337_LC08_026038_20160325_1.zip'\n",
    "\n"
   ]
  },
  {
   "cell_type": "markdown",
   "metadata": {},
   "source": [
    "### Training the CNN on an image with 10-90% cloud cover."
   ]
  },
  {
   "cell_type": "code",
   "execution_count": 59,
   "metadata": {},
   "outputs": [
    {
     "name": "stdout",
     "output_type": "stream",
     "text": [
      "['4101_LC08_027038_20131103', '4101_LC08_027038_20131103_2', '4101_LC08_027039_20131103', '4115_LC08_021033_20131227_1', '4115_LC08_021033_20131227_2', '4337_LC08_026038_20160325_1']\n"
     ]
    }
   ],
   "source": [
    "import os\n",
    "\n",
    "path = 'C:/Users/ipdavies/CPR/data/'\n",
    "\n",
    "# Get list of all images\n",
    "img_list = []\n",
    "for file in os.listdir(path):\n",
    "        img_list.append(file)\n",
    "\n",
    "print(img_list)\n",
    "\n",
    "img = '4337_LC08_026038_20160325_1'"
   ]
  },
  {
   "cell_type": "code",
   "execution_count": 111,
   "metadata": {},
   "outputs": [],
   "source": [
    "# Reorders the tifs (i.e. individual bands) downloaded from GEE according to feature order in feat_list_new,\n",
    "# then stacks them all into one multiband image called 'stack.tif' located in input path\n",
    "# Reqs: rasterio, os, from zipfile import *\n",
    "# Ideally want to have this function in another notebook and call it, but running into problems - ZipFile not found\n",
    "# from ipynb.fs.full.useful_funcs import tifStacker\n",
    "\n",
    "def tifStacker(path, img, feat_list_new): \n",
    "\n",
    "    file_list = []\n",
    "    path = path+'images/'+img\n",
    "    \n",
    "    # This gets the name of all files in the zip folder, and formats them into a full path readable by rasterio.open()\n",
    "    with ZipFile(path + '/' + img + '.zip', 'r') as f:\n",
    "        names = f.namelist()\n",
    "        names = ['zip://'+ path + '/' + img + '.zip!' +name for name in names]\n",
    "        for file in names:\n",
    "            if file.endswith('.tif'):\n",
    "                file_list.append(file)\n",
    "    \n",
    "    feat_list_files = list(map(lambda x: x.split('.')[-2], file_list)) # Grabs a list of features in file order        \n",
    "    \n",
    "    # Create 1 row df of file names where each col is a feature name, in the order files are stored locally\n",
    "    file_arr = pd.DataFrame(data=[file_list], columns=feat_list_files)\n",
    "\n",
    "    # Then index the file list by the ordered list of feature names used in training\n",
    "    file_arr = file_arr.loc[:, feat_list_new]\n",
    "\n",
    "    # The take this re-ordered row as a list - the new file_list\n",
    "    file_list = list(file_arr.iloc[0,:])\n",
    "    \n",
    "    # Read metadata of first file. This needs to be a band in float32 dtype, because it sets the metadata for the entire stack\n",
    "    # and we are converting the other bands to float64\n",
    "    with rasterio.open(file_list[1]) as src0:\n",
    "        meta = src0.meta\n",
    "        meta['dtype'] = 'float32'\n",
    "    #         print(meta)\n",
    "\n",
    "    # Update meta to reflect the number of layers\n",
    "    meta.update(count = len(file_list))\n",
    "\n",
    "    # Read each layer, convert to float, and write it to stack\n",
    "    # There's also a gdal way to do this, but unsure how to convert to float: https://gis.stackexchange.com/questions/223910/using-rasterio-or-gdal-to-stack-multiple-bands-without-using-subprocess-commands\n",
    "\n",
    "    # Make new directory for stacked tif if it doesn't already exist\n",
    "    try:\n",
    "        os.mkdir(path +'/stack')\n",
    "    except FileExistsError:\n",
    "        print('Stack directory already exists')\n",
    "\n",
    "    # Remove stack file if already exists\n",
    "    try:\n",
    "        os.remove(path + '/stack/stack.tif')\n",
    "        print('Removing existing \"stack.tif\" and creating new one')\n",
    "    except FileNotFoundError:\n",
    "    #     pass\n",
    "        print('Creating \"stack.tif\"')\n",
    "\n",
    "    with rasterio.open(path + '/stack/stack.tif', 'w', **meta) as dst:\n",
    "        for id, layer in enumerate(file_list, start=0):\n",
    "            with rasterio.open(layer) as src1:\n",
    "                dst.write_band(id+1, src1.read(1).astype('float32'))\n",
    "    \n",
    "    return feat_list_files"
   ]
  },
  {
   "cell_type": "markdown",
   "metadata": {},
   "source": [
    "This loads the stacked image and masks it 9 times for cloud cover 10-90%, resulting in 9 arrays and 9 tuples of row, col indices of the array cells with non-nan values. It might take too much memory to have all 9 arrays loaded though ..."
   ]
  },
  {
   "cell_type": "code",
   "execution_count": 103,
   "metadata": {},
   "outputs": [],
   "source": [
    "def preprocessing(path, img, pctl):\n",
    "\n",
    "    # Get local image\n",
    "    with rasterio.open(path + 'images/'+ img + '/stack/stack.tif', 'r') as ds:\n",
    "        data = ds.read()\n",
    "        data = data.transpose((1, -1, 0)) # Not sure why the rasterio.read output is originally (D, W, H)\n",
    "    \n",
    "    # load cloudmasks\n",
    "    cloudMaskDir = path+'cloudmasks/'+img\n",
    "    \n",
    "    cloudMask = np.load(cloudMaskDir+'/'+img+'_clouds_'+str(pctl)+'.npy')\n",
    "    \n",
    "    # Need to remove NaNs because any arithmetic operation involving an NaN will result in NaN\n",
    "    data[cloudMask] = -999999\n",
    "    \n",
    "    # Convert -999999 to None\n",
    "    data[data == -999999] = np.nan\n",
    "\n",
    "    # Get indices of non-nan values. These are the indices of the original image array\n",
    "    data_ind = np.where(~np.isnan(data[:,:,1]))\n",
    "        \n",
    "    return data, data_ind"
   ]
  },
  {
   "cell_type": "code",
   "execution_count": 114,
   "metadata": {},
   "outputs": [],
   "source": [
    "def trainVal(data):\n",
    "    \n",
    "    HOLDOUT_FRACTION = 0.1\n",
    "\n",
    "    # Reshape into a single vector of pixels.\n",
    "    data_vector = data.reshape([data.shape[0] * data.shape[1], data.shape[2]])\n",
    "\n",
    "    # Remove NaNs\n",
    "    data_vector = data_vector[~np.isnan(data_vector).any(axis=1)]\n",
    "    data_vector.shape\n",
    "\n",
    "    # Select only the valid data and shuffle it.\n",
    "    # valid_data = data_vector[numpy.equal(data_vector[:,8], 1)]\n",
    "    # np.random.shuffle(data_vector)\n",
    "\n",
    "    # Hold out a fraction of the labeled data for validation.\n",
    "    training_size = int(data_vector.shape[0] * (1 - HOLDOUT_FRACTION))\n",
    "    training_data = data_vector[0:training_size,:]\n",
    "    validation_data = data_vector[training_size:-1,:]\n",
    "\n",
    "    # Compute per-band means and standard deviations of the input bands.\n",
    "    data_mean = training_data[:,0:14].mean(0)\n",
    "    data_std = training_data[:,0:14].std(0)\n",
    "    \n",
    "    return [data_vector, training_data, validation_data, data_mean, data_std, training_size]"
   ]
  },
  {
   "cell_type": "markdown",
   "metadata": {},
   "source": [
    "Function to train CNN on image, save model, and return performance metrics"
   ]
  },
  {
   "cell_type": "code",
   "execution_count": 105,
   "metadata": {},
   "outputs": [],
   "source": [
    "# CNN layer builder\n",
    "def make_nn_layer(input, output_size):\n",
    "    input_size = input.get_shape().as_list()[1]\n",
    "    weights = tf.Variable(tf.truncated_normal(\n",
    "        [input_size, output_size],\n",
    "        stddev=1.0 / math.sqrt(float(input_size))))\n",
    "    biases = tf.Variable(tf.zeros([output_size]))\n",
    "    return tf.matmul(input, weights) + biases\n"
   ]
  },
  {
   "cell_type": "code",
   "execution_count": 106,
   "metadata": {},
   "outputs": [],
   "source": [
    "def CNNtrainer(data_vector, training_data, validation_data, data_mean, data_std, model_path, img, pctl):\n",
    "\n",
    "    model_name = img+'_clouds_'+str(pctl)\n",
    "    \n",
    "    \n",
    "    # These are all hyperparameters that might need to be tuned later\n",
    "    NUM_INPUT_BANDS = 14\n",
    "    NUM_HIDDEN_1 = 15\n",
    "    NUM_HIDDEN_2 = 15\n",
    "    NUM_CLASSES = 2\n",
    "\n",
    "    input = tf.placeholder(tf.float32, shape=[None, NUM_INPUT_BANDS])\n",
    "    labels = tf.placeholder(tf.float32, shape=[None])\n",
    "\n",
    "    normalized = (input - data_mean) / data_std\n",
    "    hidden1 = tf.nn.tanh(make_nn_layer(normalized, NUM_HIDDEN_1))\n",
    "    hidden2 = tf.nn.tanh(make_nn_layer(hidden1, NUM_HIDDEN_2))\n",
    "    logits = make_nn_layer(hidden2, NUM_CLASSES)\n",
    "    outputs = tf.argmax(logits, 1)\n",
    "\n",
    "    int_labels = tf.to_int64(labels)\n",
    "    cross_entropy = tf.nn.sparse_softmax_cross_entropy_with_logits(logits = logits, labels = int_labels, name='xentropy')\n",
    "    train_step = tf.train.AdamOptimizer().minimize(cross_entropy) # should we minimize something else?\n",
    "\n",
    "    correct_prediction = tf.equal(outputs, int_labels)\n",
    "    accuracy = tf.reduce_mean(tf.cast(correct_prediction, tf.float32))\n",
    "    # Want to add recall/precision to this but can do that later\n",
    "    # https://stackoverflow.com/questions/46409626/how-to-properly-use-tf-metrics-accuracy\n",
    "\n",
    "    import time\n",
    "    def timer(start,end):\n",
    "        hours, rem = divmod(end-start, 3600)\n",
    "        minutes, seconds = divmod(rem, 60)\n",
    "        return str(\"{:0>2}:{:0>2}:{:05.2f}\".format(int(hours),int(minutes),seconds))\n",
    "\n",
    "    # Had to alter some config and runoptions because kept running into OOM at last step during eval \n",
    "    config = tf.ConfigProto(\n",
    "        device_count = {'GPU': 0}\n",
    "    )\n",
    "\n",
    "    config.gpu_options.allow_growth = True\n",
    "    sess = tf.Session(config=config)\n",
    "    # run_options = tf.RunOptions(report_tensor_allocations_upon_oom = True)\n",
    "    run_options=tf.RunOptions(report_tensor_allocations_upon_oom=True)\n",
    "\n",
    "    # import logging\n",
    "    # tf.logging.set_verbosity(tf.logging.INFO)\n",
    "\n",
    "    flooded = feat_list_files.index('flooded')\n",
    "    BATCH_SIZE = 1000\n",
    "    NUM_BATCHES = 1000\n",
    "    mySaver = tf.train.Saver()\n",
    "\n",
    "    start_time = time.time()\n",
    "\n",
    "    with tf.Session(config=config) as sess:\n",
    "        sess.run(tf.global_variables_initializer(), options=run_options)\n",
    "\n",
    "        training_dict = {\n",
    "            input: training_data[:,0:14],\n",
    "            labels: training_data[:,14],\n",
    "        }\n",
    "\n",
    "        validation_dict = {\n",
    "            input: validation_data[:,0:14],\n",
    "            labels: validation_data[:,14],\n",
    "        }\n",
    "\n",
    "        for i in range(NUM_BATCHES):\n",
    "            batch = training_data[np.random.choice(training_size, BATCH_SIZE, False),:]\n",
    "            train_step.run({input: batch[:,0:14], labels: batch[:,14]})\n",
    "\n",
    "            if i % 100 == 0 or i == NUM_BATCHES - 1:\n",
    "    #             print('Train acc. %.2f%%, val acc. %.2f%%, train recall %.2f%, val recall %.2f%, train precision %.2f%, val precision %.2f%, at step %d' \n",
    "                print('Train acc. %.2f%%, val acc. %.2f%%, at step %d' \n",
    "                      % (accuracy.eval(training_dict) * 100,\n",
    "                         accuracy.eval(validation_dict) * 100, \n",
    "                         i))\n",
    "                \n",
    "        output_data = outputs.eval({input: data_vector[:,0:14]})\n",
    "\n",
    "        # Save the model\n",
    "        mySaver.save(sess, model_path+model_name+'.ckpt', global_step = NUM_BATCHES)\n",
    "\n",
    "    print('CNN training runtime for ' + str(pctl) + '% cloud cover: ' + timer(start_time, time.time()))\n",
    "    \n",
    "    return output_data\n"
   ]
  },
  {
   "cell_type": "code",
   "execution_count": 129,
   "metadata": {},
   "outputs": [
    {
     "name": "stdout",
     "output_type": "stream",
     "text": [
      "Stack directory already exists\n",
      "Removing existing \"stack.tif\" and creating new one\n"
     ]
    },
    {
     "name": "stderr",
     "output_type": "stream",
     "text": [
      "C:\\Users\\ipdavies\\AppData\\Local\\Continuum\\miniconda3\\envs\\tensorflow\\lib\\site-packages\\rasterio\\__init__.py:160: FutureWarning: GDAL-style transforms are deprecated and will not be supported in Rasterio 1.0.\n",
      "  transform = guard_transform(transform)\n"
     ]
    },
    {
     "name": "stdout",
     "output_type": "stream",
     "text": [
      "Train acc. 57.65%, val acc. 54.04%, at step 0\n",
      "Train acc. 96.61%, val acc. 98.74%, at step 100\n",
      "Train acc. 98.90%, val acc. 99.17%, at step 200\n",
      "Train acc. 99.04%, val acc. 99.21%, at step 300\n",
      "Train acc. 99.08%, val acc. 99.20%, at step 400\n",
      "Train acc. 99.09%, val acc. 99.21%, at step 500\n",
      "Train acc. 99.11%, val acc. 99.23%, at step 600\n",
      "Train acc. 99.10%, val acc. 99.23%, at step 700\n",
      "Train acc. 99.11%, val acc. 99.22%, at step 800\n",
      "Train acc. 99.12%, val acc. 99.23%, at step 900\n",
      "Train acc. 99.12%, val acc. 99.24%, at step 999\n",
      "CNN training runtime for 10% cloud cover: 00:01:13.44\n",
      "Train acc. 53.65%, val acc. 63.46%, at step 0\n",
      "Train acc. 95.04%, val acc. 96.87%, at step 100\n",
      "Train acc. 98.74%, val acc. 99.26%, at step 200\n",
      "Train acc. 98.99%, val acc. 99.26%, at step 300\n",
      "Train acc. 99.11%, val acc. 99.32%, at step 400\n",
      "Train acc. 99.18%, val acc. 99.33%, at step 500\n",
      "Train acc. 99.19%, val acc. 99.34%, at step 600\n",
      "Train acc. 99.19%, val acc. 99.34%, at step 700\n",
      "Train acc. 99.20%, val acc. 99.33%, at step 800\n",
      "Train acc. 99.20%, val acc. 99.33%, at step 900\n",
      "Train acc. 99.20%, val acc. 99.34%, at step 999\n",
      "CNN training runtime for 20% cloud cover: 00:02:36.15\n",
      "Train acc. 41.68%, val acc. 44.48%, at step 0\n",
      "Train acc. 94.70%, val acc. 96.78%, at step 100\n",
      "Train acc. 98.83%, val acc. 99.35%, at step 200\n",
      "Train acc. 98.91%, val acc. 99.37%, at step 300\n",
      "Train acc. 99.01%, val acc. 99.39%, at step 400\n",
      "Train acc. 99.06%, val acc. 99.39%, at step 500\n",
      "Train acc. 99.08%, val acc. 99.41%, at step 600\n",
      "Train acc. 99.11%, val acc. 99.40%, at step 700\n",
      "Train acc. 99.11%, val acc. 99.43%, at step 800\n",
      "Train acc. 99.12%, val acc. 99.43%, at step 900\n",
      "Train acc. 99.12%, val acc. 99.44%, at step 999\n",
      "CNN training runtime for 30% cloud cover: 00:04:38.78\n",
      "Train acc. 42.94%, val acc. 39.89%, at step 0\n",
      "Train acc. 97.38%, val acc. 98.82%, at step 100\n",
      "Train acc. 98.21%, val acc. 99.30%, at step 200\n",
      "Train acc. 98.86%, val acc. 99.36%, at step 300\n",
      "Train acc. 98.98%, val acc. 99.36%, at step 400\n",
      "Train acc. 99.03%, val acc. 99.39%, at step 500\n",
      "Train acc. 99.04%, val acc. 99.39%, at step 600\n",
      "Train acc. 99.04%, val acc. 99.39%, at step 700\n",
      "Train acc. 99.07%, val acc. 99.39%, at step 800\n",
      "Train acc. 99.07%, val acc. 99.41%, at step 900\n",
      "Train acc. 99.04%, val acc. 99.39%, at step 999\n",
      "CNN training runtime for 40% cloud cover: 00:06:43.14\n",
      "Train acc. 50.22%, val acc. 57.49%, at step 0\n",
      "Train acc. 95.41%, val acc. 97.05%, at step 100\n",
      "Train acc. 98.46%, val acc. 99.32%, at step 200\n",
      "Train acc. 99.07%, val acc. 99.38%, at step 300\n",
      "Train acc. 99.09%, val acc. 99.38%, at step 400\n",
      "Train acc. 99.08%, val acc. 99.39%, at step 500\n",
      "Train acc. 99.12%, val acc. 99.39%, at step 600\n",
      "Train acc. 99.12%, val acc. 99.40%, at step 700\n",
      "Train acc. 99.11%, val acc. 99.39%, at step 800\n",
      "Train acc. 99.13%, val acc. 99.41%, at step 900\n",
      "Train acc. 99.14%, val acc. 99.41%, at step 999\n",
      "CNN training runtime for 50% cloud cover: 00:08:49.91\n",
      "Train acc. 56.58%, val acc. 52.46%, at step 0\n",
      "Train acc. 98.02%, val acc. 99.01%, at step 100\n",
      "Train acc. 98.44%, val acc. 99.19%, at step 200\n",
      "Train acc. 98.94%, val acc. 99.38%, at step 300\n",
      "Train acc. 98.98%, val acc. 99.41%, at step 400\n",
      "Train acc. 99.11%, val acc. 99.40%, at step 500\n",
      "Train acc. 99.11%, val acc. 99.39%, at step 600\n",
      "Train acc. 99.11%, val acc. 99.39%, at step 700\n",
      "Train acc. 99.11%, val acc. 99.40%, at step 800\n",
      "Train acc. 99.12%, val acc. 99.40%, at step 900\n",
      "Train acc. 99.12%, val acc. 99.41%, at step 999\n",
      "CNN training runtime for 60% cloud cover: 00:12:00.13\n",
      "Train acc. 37.80%, val acc. 37.29%, at step 0\n",
      "Train acc. 98.05%, val acc. 98.99%, at step 100\n",
      "Train acc. 98.67%, val acc. 99.15%, at step 200\n",
      "Train acc. 98.96%, val acc. 99.35%, at step 300\n",
      "Train acc. 98.97%, val acc. 99.38%, at step 400\n",
      "Train acc. 99.01%, val acc. 99.42%, at step 500\n",
      "Train acc. 99.00%, val acc. 99.41%, at step 600\n",
      "Train acc. 99.02%, val acc. 99.42%, at step 700\n",
      "Train acc. 99.00%, val acc. 99.41%, at step 800\n",
      "Train acc. 99.03%, val acc. 99.42%, at step 900\n",
      "Train acc. 99.04%, val acc. 99.42%, at step 999\n",
      "CNN training runtime for 70% cloud cover: 00:18:26.25\n",
      "Train acc. 54.63%, val acc. 50.94%, at step 0\n",
      "Train acc. 98.08%, val acc. 98.94%, at step 100\n",
      "Train acc. 98.32%, val acc. 99.01%, at step 200\n",
      "Train acc. 98.87%, val acc. 99.35%, at step 300\n",
      "Train acc. 98.91%, val acc. 99.37%, at step 400\n",
      "Train acc. 98.91%, val acc. 99.37%, at step 500\n",
      "Train acc. 98.93%, val acc. 99.38%, at step 600\n",
      "Train acc. 98.91%, val acc. 99.36%, at step 700\n",
      "Train acc. 98.95%, val acc. 99.40%, at step 800\n",
      "Train acc. 98.93%, val acc. 99.39%, at step 900\n",
      "Train acc. 98.96%, val acc. 99.40%, at step 999\n",
      "CNN training runtime for 80% cloud cover: 00:18:57.08\n",
      "Train acc. 52.58%, val acc. 57.06%, at step 0\n",
      "Train acc. 97.92%, val acc. 98.76%, at step 100\n",
      "Train acc. 98.64%, val acc. 99.27%, at step 200\n",
      "Train acc. 98.81%, val acc. 99.37%, at step 300\n",
      "Train acc. 98.85%, val acc. 99.39%, at step 400\n",
      "Train acc. 98.90%, val acc. 99.39%, at step 500\n",
      "Train acc. 98.90%, val acc. 99.37%, at step 600\n",
      "Train acc. 98.93%, val acc. 99.40%, at step 700\n",
      "Train acc. 98.95%, val acc. 99.41%, at step 800\n",
      "Train acc. 98.94%, val acc. 99.40%, at step 900\n",
      "Train acc. 98.97%, val acc. 99.43%, at step 999\n",
      "CNN training runtime for 90% cloud cover: 00:18:04.24\n"
     ]
    },
    {
     "ename": "TypeError",
     "evalue": "'function' object is not subscriptable",
     "output_type": "error",
     "traceback": [
      "\u001b[1;31m---------------------------------------------------------------------------\u001b[0m",
      "\u001b[1;31mTypeError\u001b[0m                                 Traceback (most recent call last)",
      "\u001b[1;32m<ipython-input-129-deca97a4d231>\u001b[0m in \u001b[0;36m<module>\u001b[1;34m()\u001b[0m\n\u001b[0;32m     35\u001b[0m     \u001b[0mf1\u001b[0m\u001b[1;33m.\u001b[0m\u001b[0mappend\u001b[0m\u001b[1;33m(\u001b[0m\u001b[0msklearn\u001b[0m\u001b[1;33m.\u001b[0m\u001b[0mmetrics\u001b[0m\u001b[1;33m.\u001b[0m\u001b[0mf1_score\u001b[0m\u001b[1;33m(\u001b[0m\u001b[0my_true\u001b[0m\u001b[1;33m,\u001b[0m \u001b[0my_pred\u001b[0m\u001b[1;33m)\u001b[0m\u001b[1;33m)\u001b[0m\u001b[1;33m\u001b[0m\u001b[0m\n\u001b[0;32m     36\u001b[0m \u001b[1;33m\u001b[0m\u001b[0m\n\u001b[1;32m---> 37\u001b[1;33m metrics = pd.DataFrame(np.column_stack[pctls, accuracy, precision, recall, f1],\n\u001b[0m\u001b[0;32m     38\u001b[0m                       columns=['cloud_cover','accuracy','precision','recall','f1'])\n\u001b[0;32m     39\u001b[0m \u001b[1;33m\u001b[0m\u001b[0m\n",
      "\u001b[1;31mTypeError\u001b[0m: 'function' object is not subscriptable"
     ]
    }
   ],
   "source": [
    "import math\n",
    "from math import sqrt\n",
    "import sklearn\n",
    "from sklearn.metrics import accuracy_score, precision_score, recall_score, f1_score, accuracy_score\n",
    "import time\n",
    "\n",
    "# Loop to do all the functions together\n",
    "path = 'C:/Users/ipdavies/CPR/data/'\n",
    "feat_list_new = ['aspect','curve', 'developed', 'distExtent', 'elevation', 'forest',\n",
    " 'GSW_maxExtent', 'hand', 'other_landcover', 'planted', 'slope', 'spi', 'twi', 'wetlands', 'flooded']\n",
    "model_path = path+'models/cnn_vary_clouds/'\n",
    "img = '4337_LC08_026038_20160325_1'\n",
    "pctls = [10,20,30,40,50,60,70,80,90]\n",
    "\n",
    "#  Stack all the flood imagery\n",
    "feat_list_files = tifStacker(path, img, feat_list_new)\n",
    "\n",
    "precision = []\n",
    "recall = []\n",
    "f1 = []\n",
    "accuracy = []\n",
    "time = []\n",
    "\n",
    "# Load stacked image, preprocess\n",
    "for i, pctl in enumerate(pctls):\n",
    "    \n",
    "    data, data_ind = preprocessing(path, img, pctl)\n",
    "    \n",
    "    data_vector, training_data, validation_data, data_mean, data_std, training_size = trainVal(data)\n",
    "    \n",
    "    start_time = time.time() # Start timer for CNN training\n",
    "    \n",
    "    y_pred = CNNtrainer(data_vector, training_data, validation_data, data_mean, data_std, model_path, img, pctl)\n",
    "    \n",
    "    time.append(time.time() - start_time) # Elapsed time in seconds\n",
    "    \n",
    "    y_true = data_vector[:,14]\n",
    "    \n",
    "    precision.append(sklearn.metrics.precision_score(y_true, y_pred))\n",
    "    recall.append(sklearn.metrics.recall_score(y_true, y_pred))\n",
    "    f1.append(sklearn.metrics.f1_score(y_true, y_pred))\n",
    "    accuracy.append(sklearn.metrics.accuracy_score(y_true, y_pred))\n",
    "    \n",
    "metrics = pd.DataFrame(np.column_stack([pctls, accuracy, precision, recall, f1, time]),\n",
    "                      columns=['cloud_cover','accuracy','precision','recall','f1', 'time'])\n",
    "\n",
    "print(metrics)\n",
    "    "
   ]
  },
  {
   "cell_type": "code",
   "execution_count": 185,
   "metadata": {},
   "outputs": [
    {
     "name": "stdout",
     "output_type": "stream",
     "text": [
      "   cloud_cover  precision    recall        f1     time\n",
      "0         90.0   0.940477  0.853726  0.895004   4424.0\n",
      "1         80.0   0.935017  0.846210  0.888400   9375.0\n",
      "2         70.0   0.940411  0.821862  0.877149  16758.0\n",
      "3         60.0   0.911477  0.835902  0.872055  24194.0\n",
      "4         50.0   0.941435  0.836684  0.885974  31831.0\n",
      "5         40.0   0.940850  0.838520  0.886742  43213.0\n",
      "6         30.0   0.933587  0.831837  0.879780  66385.0\n",
      "7         20.0   0.934336  0.818228  0.872436  68228.0\n",
      "8         10.0   0.935576  0.827322  0.878125  65064.0\n"
     ]
    }
   ],
   "source": [
    "time = [(18*3600)+(4*60)+24, (18*3600)+(57*60)+8, (18*3600)+(26*60)+25, (12*3600)+(13), (8*3600)+(49*60)+91, (6*3600)+(43*60)+14, (4*3600)+(38*60)+78, (2*3600)+(36*60)+15, (1*3600)+(13*60)+44]\n",
    "time.reverse()\n",
    "\n",
    "metrics = pd.DataFrame(np.column_stack([[90,80,70,60,50,40,30,20,10], precision, recall, f1, time]),\n",
    "                       \n",
    "                      columns=['cloud_cover','precision','recall','f1','time'])\n",
    "\n",
    "print(metrics)\n"
   ]
  },
  {
   "cell_type": "markdown",
   "metadata": {},
   "source": [
    "Need to add a printout or metric with how many flooded pixels are in train/test dataset."
   ]
  },
  {
   "cell_type": "code",
   "execution_count": 186,
   "metadata": {},
   "outputs": [],
   "source": [
    "metrics.to_csv(path+'tables/CNN_cloud_metrics/'+'train_'+img+'.csv', index=False)"
   ]
  },
  {
   "cell_type": "code",
   "execution_count": 187,
   "metadata": {},
   "outputs": [
    {
     "data": {
      "text/plain": [
       "<matplotlib.axes._subplots.AxesSubplot at 0x28fd8a44240>"
      ]
     },
     "execution_count": 187,
     "metadata": {},
     "output_type": "execute_result"
    },
    {
     "data": {
      "image/png": "[encoded data removed]",
      "text/plain": [
       "<Figure size 432x288 with 1 Axes>"
      ]
     },
     "metadata": {
      "needs_background": "light"
     },
     "output_type": "display_data"
    }
   ],
   "source": [
    "# Visualize training metrics\n",
    "\n",
    "metrics.plot(x='cloud_cover', y=['recall', 'precision','f1'])"
   ]
  },
  {
   "cell_type": "markdown",
   "metadata": {},
   "source": [
    "### Predict on cloud gaps"
   ]
  },
  {
   "cell_type": "code",
   "execution_count": 188,
   "metadata": {},
   "outputs": [],
   "source": [
    "def preprocessing_gaps(path, img, pctl):\n",
    "\n",
    "    # Get local image\n",
    "    with rasterio.open(path + 'images/'+ img + '/stack/stack.tif', 'r') as ds:\n",
    "        data = ds.read()\n",
    "        data = data.transpose((1, -1, 0)) # Not sure why the rasterio.read output is originally (D, W, H)\n",
    "    \n",
    "    # load cloudmasks\n",
    "    cloudMaskDir = path+'cloudmasks/'+img\n",
    "    \n",
    "    cloudMask = np.load(cloudMaskDir+'/'+img+'_clouds_'+str(pctl)+'.npy')\n",
    "    \n",
    "    # Invert cloudmask to get the gaps\n",
    "    cloudMask = np.invert(cloudMask)\n",
    "    \n",
    "    # Need to remove NaNs because any arithmetic operation involving an NaN will result in NaN\n",
    "    data[cloudMask] = -999999\n",
    "    \n",
    "    # Convert -999999 to None\n",
    "    data[data == -999999] = np.nan\n",
    "\n",
    "    # Get indices of non-nan values. These are the indices of the original image array\n",
    "    data_ind = np.where(~np.isnan(data[:,:,1]))\n",
    "    \n",
    "    # Reshape into a single vector of pixels.\n",
    "    data_vector = data.reshape([data.shape[0] * data.shape[1], data.shape[2]])\n",
    "\n",
    "    # Remove NaNs\n",
    "    data_vector = data_vector[~np.isnan(data_vector).any(axis=1)]\n",
    "\n",
    "    # Compute per-band means and standard deviations of the input bands.\n",
    "    data_mean = training_data[:,0:14].mean(0)\n",
    "    data_std = training_data[:,0:14].std(0)\n",
    "\n",
    "    return data_vector, data_mean, data_std"
   ]
  },
  {
   "cell_type": "markdown",
   "metadata": {},
   "source": [
    "Problem: TF doesn't save every variable, like outputs or input, so we need to save those somehow\n",
    "https://stackoverflow.com/questions/43887425/how-to-import-a-model-in-tensorflow"
   ]
  },
  {
   "cell_type": "code",
   "execution_count": 214,
   "metadata": {},
   "outputs": [],
   "source": [
    "def gapFill(data_vector, data_mean, data_std, img, pctl):\n",
    "    \n",
    "    model_name = img+'_clouds_'+str(pctl)\n",
    "    \n",
    "    NUM_INPUT_BANDS = 14\n",
    "    NUM_HIDDEN_1 = 15\n",
    "    NUM_HIDDEN_2 = 15\n",
    "    NUM_CLASSES = 2\n",
    "\n",
    "    # Prepare feed dictionary\n",
    "\n",
    "    input = tf.placeholder(tf.float32, shape=[None, NUM_INPUT_BANDS])\n",
    "    labels = tf.placeholder(tf.float32, shape=[None])\n",
    "\n",
    "    normalized = (input - data_mean) / data_std\n",
    "    \n",
    "    hidden1 = tf.nn.tanh(make_nn_layer(normalized, NUM_HIDDEN_1))\n",
    "    hidden2 = tf.nn.tanh(make_nn_layer(hidden1, NUM_HIDDEN_2))\n",
    "    logits = make_nn_layer(hidden2, NUM_CLASSES)\n",
    "    outputs = tf.argmax(logits, 1)\n",
    "\n",
    "    int_labels = tf.to_int64(labels)\n",
    "    cross_entropy = tf.nn.sparse_softmax_cross_entropy_with_logits(logits = logits, labels = int_labels, name='xentropy')\n",
    "    train_step = tf.train.AdamOptimizer().minimize(cross_entropy) # should we minimize something else?\n",
    "\n",
    "    correct_prediction = tf.equal(outputs, int_labels)\n",
    "    accuracy = tf.reduce_mean(tf.cast(correct_prediction, tf.float32))\n",
    "    \n",
    "    # Had to alter some config and runoptions because kept running into OOM at last step during eval \n",
    "    config = tf.ConfigProto(\n",
    "        device_count = {'GPU': 0}\n",
    "    )\n",
    "\n",
    "    config.gpu_options.allow_growth = True\n",
    "    sess = tf.Session(config=config)\n",
    "    # run_options = tf.RunOptions(report_tensor_allocations_upon_oom = True)\n",
    "    run_options=tf.RunOptions(report_tensor_allocations_upon_oom=True)\n",
    "\n",
    "\n",
    "    with tf.Session(config=config) as sess:\n",
    "        sess.run(tf.global_variables_initializer(), options=run_options)\n",
    "        mySaver = tf.train.import_meta_graph(model_path+model_name+'.ckpt-1000.meta')\n",
    "        mySaver.restore(sess, tf.train.latest_checkpoint(model_path+'./'))\n",
    "\n",
    "        y_pred = outputs.eval({input: data_vector[:,0:14]})\n",
    "    \n",
    "    return y_pred\n"
   ]
  },
  {
   "cell_type": "code",
   "execution_count": 216,
   "metadata": {},
   "outputs": [
    {
     "name": "stdout",
     "output_type": "stream",
     "text": [
      "INFO:tensorflow:Restoring parameters from C:/Users/ipdavies/CPR/data/models/cnn_vary_clouds/4337_LC08_026038_20160325_1_clouds_90.ckpt-1000\n"
     ]
    },
    {
     "data": {
      "text/plain": [
       "array([0, 0, 0, ..., 1, 1, 1], dtype=int64)"
      ]
     },
     "execution_count": 216,
     "metadata": {},
     "output_type": "execute_result"
    }
   ],
   "source": [
    "y_pred = gapFill(data_vector, data_mean, img, 80)\n",
    "y_pred"
   ]
  },
  {
   "cell_type": "code",
   "execution_count": 220,
   "metadata": {},
   "outputs": [
    {
     "data": {
      "text/plain": [
       "'C:/Users/ipdavies/CPR/data/models/cnn_vary_clouds/4337_LC08_026038_20160325_1_clouds_80.ckpt-1000.meta'"
      ]
     },
     "execution_count": 220,
     "metadata": {},
     "output_type": "execute_result"
    }
   ],
   "source": [
    "pctl=80\n",
    "model_name = img+'_clouds_'+str(pctl)\n",
    "model_path+model_name+'.ckpt-1000.meta'"
   ]
  },
  {
   "cell_type": "code",
   "execution_count": 199,
   "metadata": {
    "collapsed": true
   },
   "outputs": [
    {
     "name": "stdout",
     "output_type": "stream",
     "text": [
      "INFO:tensorflow:Restoring parameters from C:/Users/ipdavies/CPR/data/models/cnn_vary_clouds/4337_LC08_026038_20160325_1_clouds_90.ckpt-1000\n"
     ]
    },
    {
     "ename": "NameError",
     "evalue": "name 'outputs' is not defined",
     "output_type": "error",
     "traceback": [
      "\u001b[1;31m---------------------------------------------------------------------------\u001b[0m",
      "\u001b[1;31mNameError\u001b[0m                                 Traceback (most recent call last)",
      "\u001b[1;32m<ipython-input-199-44341abedd94>\u001b[0m in \u001b[0;36m<module>\u001b[1;34m()\u001b[0m\n\u001b[0;32m     13\u001b[0m     \u001b[0mdata_vector\u001b[0m\u001b[1;33m,\u001b[0m \u001b[0mdata_mean\u001b[0m\u001b[1;33m,\u001b[0m \u001b[0mdata_std\u001b[0m \u001b[1;33m=\u001b[0m \u001b[0mpreprocessing_gaps\u001b[0m\u001b[1;33m(\u001b[0m\u001b[0mpath\u001b[0m\u001b[1;33m,\u001b[0m \u001b[0mimg\u001b[0m\u001b[1;33m,\u001b[0m \u001b[0mpctl\u001b[0m\u001b[1;33m)\u001b[0m\u001b[1;33m\u001b[0m\u001b[0m\n\u001b[0;32m     14\u001b[0m \u001b[1;33m\u001b[0m\u001b[0m\n\u001b[1;32m---> 15\u001b[1;33m     \u001b[0my_pred\u001b[0m \u001b[1;33m=\u001b[0m \u001b[0mgapFill\u001b[0m\u001b[1;33m(\u001b[0m\u001b[0mdata_vector\u001b[0m\u001b[1;33m,\u001b[0m \u001b[0mdata_mean\u001b[0m\u001b[1;33m,\u001b[0m \u001b[0mimg\u001b[0m\u001b[1;33m,\u001b[0m \u001b[0mpctl\u001b[0m\u001b[1;33m)\u001b[0m\u001b[1;33m\u001b[0m\u001b[0m\n\u001b[0m\u001b[0;32m     16\u001b[0m \u001b[1;33m\u001b[0m\u001b[0m\n\u001b[0;32m     17\u001b[0m     \u001b[0my_true\u001b[0m \u001b[1;33m=\u001b[0m \u001b[0mdata_vector\u001b[0m\u001b[1;33m[\u001b[0m\u001b[1;33m:\u001b[0m\u001b[1;33m,\u001b[0m\u001b[1;36m14\u001b[0m\u001b[1;33m]\u001b[0m\u001b[1;33m\u001b[0m\u001b[0m\n",
      "\u001b[1;32m<ipython-input-198-e35d3f80a3d9>\u001b[0m in \u001b[0;36mgapFill\u001b[1;34m(data_vector, data_mean, img, pctl)\u001b[0m\n\u001b[0;32m     25\u001b[0m         \u001b[0mmySaver\u001b[0m\u001b[1;33m.\u001b[0m\u001b[0mrestore\u001b[0m\u001b[1;33m(\u001b[0m\u001b[0msess\u001b[0m\u001b[1;33m,\u001b[0m \u001b[0mtf\u001b[0m\u001b[1;33m.\u001b[0m\u001b[0mtrain\u001b[0m\u001b[1;33m.\u001b[0m\u001b[0mlatest_checkpoint\u001b[0m\u001b[1;33m(\u001b[0m\u001b[0mmodel_path\u001b[0m\u001b[1;33m+\u001b[0m\u001b[1;34m'./'\u001b[0m\u001b[1;33m)\u001b[0m\u001b[1;33m)\u001b[0m\u001b[1;33m\u001b[0m\u001b[0m\n\u001b[0;32m     26\u001b[0m \u001b[1;33m\u001b[0m\u001b[0m\n\u001b[1;32m---> 27\u001b[1;33m         \u001b[0my_pred\u001b[0m \u001b[1;33m=\u001b[0m \u001b[0moutputs\u001b[0m\u001b[1;33m.\u001b[0m\u001b[0meval\u001b[0m\u001b[1;33m(\u001b[0m\u001b[1;33m{\u001b[0m\u001b[0minput\u001b[0m\u001b[1;33m:\u001b[0m \u001b[0mdata_vector\u001b[0m\u001b[1;33m[\u001b[0m\u001b[1;33m:\u001b[0m\u001b[1;33m,\u001b[0m\u001b[1;36m0\u001b[0m\u001b[1;33m:\u001b[0m\u001b[1;36m14\u001b[0m\u001b[1;33m]\u001b[0m\u001b[1;33m}\u001b[0m\u001b[1;33m)\u001b[0m\u001b[1;33m\u001b[0m\u001b[0m\n\u001b[0m\u001b[0;32m     28\u001b[0m \u001b[1;33m\u001b[0m\u001b[0m\n\u001b[0;32m     29\u001b[0m     \u001b[1;32mreturn\u001b[0m \u001b[0my_pred\u001b[0m\u001b[1;33m\u001b[0m\u001b[0m\n",
      "\u001b[1;31mNameError\u001b[0m: name 'outputs' is not defined"
     ]
    }
   ],
   "source": [
    "model_path = path+'models/cnn_vary_clouds/'\n",
    "pctls = [10,20,30,40,50,60,70,80,90]\n",
    "img = '4337_LC08_026038_20160325_1'\n",
    "\n",
    "precision = []\n",
    "recall = []\n",
    "f1 = []\n",
    "accuracy = []\n",
    "predictions = []\n",
    "\n",
    "for i, pctl in enumerate(pctls):\n",
    "    \n",
    "    data_vector, data_mean, data_std = preprocessing_gaps(path, img, pctl)\n",
    "    \n",
    "    y_pred = gapFill(data_vector, data_mean, data_std, img, pctl)\n",
    "    \n",
    "    y_true = data_vector[:,14]\n",
    "    \n",
    "    precision.append(sklearn.metrics.precision_score(y_true, y_pred))\n",
    "    recall.append(sklearn.metrics.recall_score(y_true, y_pred))\n",
    "    f1.append(sklearn.metrics.f1_score(y_true, y_pred))\n",
    "    predictions.append(y_pred)"
   ]
  }
 ],
 "metadata": {
  "kernelspec": {
   "display_name": "Python (tensorflow)",
   "language": "python",
   "name": "tensorflow"
  },
  "language_info": {
   "codemirror_mode": {
    "name": "ipython",
    "version": 3
   },
   "file_extension": ".py",
   "mimetype": "text/x-python",
   "name": "python",
   "nbconvert_exporter": "python",
   "pygments_lexer": "ipython3",
   "version": "3.6.6"
  }
 },
 "nbformat": 4,
 "nbformat_minor": 2
}
