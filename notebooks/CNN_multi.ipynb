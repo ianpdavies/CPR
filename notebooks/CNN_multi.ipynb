{
 "cells": [
  {
   "cell_type": "markdown",
   "metadata": {},
   "source": [
    "# Testing the performance of CNNs on different flood images, cloud cover %"
   ]
  },
  {
   "cell_type": "code",
   "execution_count": 1,
   "metadata": {},
   "outputs": [],
   "source": [
    "# import ee\n",
    "from IPython import display\n",
    "# import math\n",
    "import pandas as pd\n",
    "from matplotlib import pyplot as plt\n",
    "import numpy as np\n",
    "# from osgeo import gdal\n",
    "# import tempfile\n",
    "import tensorflow as tf\n",
    "# import urllib\n",
    "import rasterio\n",
    "from zipfile import *\n",
    "import math\n",
    "from math import sqrt\n",
    "import sklearn\n",
    "from sklearn.metrics import accuracy_score, precision_score, recall_score, f1_score, accuracy_score\n",
    "import time"
   ]
  },
  {
   "cell_type": "markdown",
   "metadata": {},
   "source": [
    "### Training the CNN on an image with 10-90% cloud cover."
   ]
  },
  {
   "cell_type": "code",
   "execution_count": 2,
   "metadata": {},
   "outputs": [
    {
     "name": "stdout",
     "output_type": "stream",
     "text": [
      "['.ipynb_checkpoints', 'cloudmasks', 'images', 'models', 'tables']\n"
     ]
    }
   ],
   "source": [
    "import os\n",
    "\n",
    "path = 'C:/Users/ipdavies/CPR/data/'\n",
    "\n",
    "# Get list of all images\n",
    "img_list = []\n",
    "for file in os.listdir(path):\n",
    "        img_list.append(file)\n",
    "\n",
    "print(img_list)\n",
    "\n",
    "img = '4337_LC08_026038_20160325_1'"
   ]
  },
  {
   "cell_type": "code",
   "execution_count": null,
   "metadata": {},
   "outputs": [],
   "source": [
    "def tifStacker(path, img, feat_list_new): \n",
    "\n",
    "    \"\"\" Reorders the tifs (i.e. individual bands) downloaded from GEE according to feature order in feat_list_new, \n",
    "    then stacks them all into one multiband image called 'stack.tif' located in input path. Requires rasterio, \n",
    "    os, from zipfile import *\n",
    "    \n",
    "    Ideally want to have this function in another notebook and call it, but running into problems - ZipFile not found \n",
    "    \n",
    "    from ipynb.fs.full.useful_funcs import tifStacker\n",
    "    \n",
    "    Parameters\n",
    "    ----------\n",
    "    path : str \n",
    "        Path to image folder\n",
    "    img :str \n",
    "        Name of image file (without file extension)\n",
    "    feat_list_new : list\n",
    "        List of feature names (str) to be the desired order of the output stacked .tif - target feature must be last\n",
    "    \n",
    "    Returns\n",
    "    ----------\n",
    "    \"stacked.tif\" in 'path' location \n",
    "    feat_list_files : list \n",
    "        Not sure what that is or what it's for \n",
    "    \n",
    "    \"\"\"\n",
    "    \n",
    "    file_list = []\n",
    "    path = path+'images/'+img\n",
    "    \n",
    "    # This gets the name of all files in the zip folder, and formats them into a full path readable by rasterio.open()\n",
    "    with ZipFile(path + '/' + img + '.zip', 'r') as f:\n",
    "        names = f.namelist()\n",
    "        names = ['zip://'+ path + '/' + img + '.zip!' +name for name in names]\n",
    "        for file in names:\n",
    "            if file.endswith('.tif'):\n",
    "                file_list.append(file)\n",
    "    \n",
    "    feat_list_files = list(map(lambda x: x.split('.')[-2], file_list)) # Grabs a list of features in file order        \n",
    "    \n",
    "    # Create 1 row df of file names where each col is a feature name, in the order files are stored locally\n",
    "    file_arr = pd.DataFrame(data=[file_list], columns=feat_list_files)\n",
    "\n",
    "    # Then index the file list by the ordered list of feature names used in training\n",
    "    file_arr = file_arr.loc[:, feat_list_new]\n",
    "\n",
    "    # The take this re-ordered row as a list - the new file_list\n",
    "    file_list = list(file_arr.iloc[0,:])\n",
    "    \n",
    "    # Read metadata of first file. This needs to be a band in float32 dtype, because it sets the metadata for the entire stack\n",
    "    # and we are converting the other bands to float64\n",
    "    with rasterio.open(file_list[1]) as src0:\n",
    "        meta = src0.meta\n",
    "        meta['dtype'] = 'float32'\n",
    "    #         print(meta)\n",
    "\n",
    "    # Update meta to reflect the number of layers\n",
    "    meta.update(count = len(file_list))\n",
    "\n",
    "    # Read each layer, convert to float, and write it to stack\n",
    "    # There's also a gdal way to do this, but unsure how to convert to float: https://gis.stackexchange.com/questions/223910/using-rasterio-or-gdal-to-stack-multiple-bands-without-using-subprocess-commands\n",
    "\n",
    "    # Make new directory for stacked tif if it doesn't already exist\n",
    "    try:\n",
    "        os.mkdir(path +'/stack')\n",
    "    except FileExistsError:\n",
    "        print('Stack directory already exists')\n",
    "\n",
    "    # Remove stack file if already exists\n",
    "    try:\n",
    "        os.remove(path + '/stack/stack.tif')\n",
    "        print('Removing existing \"stack.tif\" and creating new one')\n",
    "    except FileNotFoundError:\n",
    "    #     pass\n",
    "        print('Creating \"stack.tif\"')\n",
    "\n",
    "    with rasterio.open(path + '/stack/stack.tif', 'w', **meta) as dst:\n",
    "        for id, layer in enumerate(file_list, start=0):\n",
    "            with rasterio.open(layer) as src1:\n",
    "                dst.write_band(id+1, src1.read(1).astype('float32'))\n",
    "    \n",
    "    return feat_list_files"
   ]
  },
  {
   "cell_type": "markdown",
   "metadata": {},
   "source": [
    "This loads the stacked image and masks it 9 times for cloud cover 10-90%, resulting in 9 arrays and 9 tuples of row, col indices of the array cells with non-nan values. It might take too much memory to have all 9 arrays loaded though ..."
   ]
  },
  {
   "cell_type": "code",
   "execution_count": 4,
   "metadata": {},
   "outputs": [],
   "source": [
    "def preprocessing(path, img, pctl):\n",
    "    \"\"\"\n",
    "    Masks stacked image with cloudmask by converting cloudy values to NaN\n",
    "    \n",
    "    Parameters\n",
    "    ----------\n",
    "    path : str \n",
    "        Path to image folder\n",
    "    img :str \n",
    "        Name of image file (without file extension)\n",
    "    pctl : list of int\n",
    "        List of integers of cloud cover percentages to mask image with (10, 20, 30, etc.)\n",
    "    \n",
    "    Returns\n",
    "    ----------\n",
    "    data : array\n",
    "        3D array identical to input stacked image but with cloudy pixels masked\n",
    "    data_ind : list?\n",
    "        List? of indices in 'data' where cloudy pixels were masked. Used for reconstructing the image later \n",
    "    \"\"\"\n",
    "    \n",
    "    # Get local image\n",
    "    with rasterio.open(path + 'images/'+ img + '/stack/stack.tif', 'r') as ds:\n",
    "        data = ds.read()\n",
    "        data = data.transpose((1, -1, 0)) # Not sure why the rasterio.read output is originally (D, W, H)\n",
    "    \n",
    "    # load cloudmasks\n",
    "    cloudMaskDir = path+'cloudmasks/'+img\n",
    "    \n",
    "    cloudMask = np.load(cloudMaskDir+'/'+img+'_clouds_'+str(pctl)+'.npy')\n",
    "    \n",
    "    # Need to remove NaNs because any arithmetic operation involving an NaN will result in NaN\n",
    "    data[cloudMask] = -999999\n",
    "    \n",
    "    # Convert -999999 to None\n",
    "    data[data == -999999] = np.nan\n",
    "\n",
    "    # Get indices of non-nan values. These are the indices of the original image array\n",
    "    data_ind = np.where(~np.isnan(data[:,:,1]))\n",
    "        \n",
    "    return data, data_ind"
   ]
  },
  {
   "cell_type": "code",
   "execution_count": 5,
   "metadata": {},
   "outputs": [],
   "source": [
    "def trainVal(data):\n",
    "    \n",
    "    HOLDOUT_FRACTION = 0.1\n",
    "\n",
    "    # Reshape into a single vector of pixels.\n",
    "    data_vector = data.reshape([data.shape[0] * data.shape[1], data.shape[2]])\n",
    "\n",
    "    # Remove NaNs\n",
    "    data_vector = data_vector[~np.isnan(data_vector).any(axis=1)]\n",
    "    data_vector.shape\n",
    "\n",
    "    # Select only the valid data and shuffle it.\n",
    "    # valid_data = data_vector[numpy.equal(data_vector[:,8], 1)]\n",
    "    # np.random.shuffle(data_vector)\n",
    "\n",
    "    # Hold out a fraction of the labeled data for validation.\n",
    "    training_size = int(data_vector.shape[0] * (1 - HOLDOUT_FRACTION))\n",
    "    training_data = data_vector[0:training_size,:]\n",
    "    validation_data = data_vector[training_size:-1,:]\n",
    "\n",
    "    # Compute per-band means and standard deviations of the input bands.\n",
    "    data_mean = training_data[:,0:14].mean(0)\n",
    "    data_std = training_data[:,0:14].std(0)\n",
    "    \n",
    "    return [data_vector, training_data, validation_data, data_mean, data_std, training_size]"
   ]
  },
  {
   "cell_type": "markdown",
   "metadata": {},
   "source": [
    "Function to train CNN on image, save model, and return performance metrics"
   ]
  },
  {
   "cell_type": "code",
   "execution_count": 8,
   "metadata": {},
   "outputs": [],
   "source": [
    "with rasterio.open(path + 'images/'+ img + '/stack/stack.tif', 'r') as ds:\n",
    "    data = ds.read()\n",
    "    data = data.transpose((1, -1, 0)) # Not sure why the rasterio.read output is originally (D, W, H)\n",
    "    data[data == -999999] = np.nan\n",
    "    data_vector = data.reshape([data.shape[0] * data.shape[1], data.shape[2]])\n",
    "    data_vector = data_vector[~np.isnan(data_vector).any(axis=1)]"
   ]
  },
  {
   "cell_type": "code",
   "execution_count": null,
   "metadata": {},
   "outputs": [],
   "source": [
    "df = pd.DataFrame(data_vector)\n",
    "pd.plotting.scatter_matrix(df, alpha=0.2)"
   ]
  },
  {
   "cell_type": "code",
   "execution_count": 6,
   "metadata": {},
   "outputs": [],
   "source": [
    "# CNN layer builder\n",
    "def make_nn_layer(input, output_size):\n",
    "    input_size = input.get_shape().as_list()[1]\n",
    "    weights = tf.Variable(tf.truncated_normal(\n",
    "        [input_size, output_size],\n",
    "        stddev=1.0 / math.sqrt(float(input_size))))\n",
    "    biases = tf.Variable(tf.zeros([output_size]))\n",
    "    return tf.matmul(input, weights) + biases\n"
   ]
  },
  {
   "cell_type": "code",
   "execution_count": 7,
   "metadata": {},
   "outputs": [],
   "source": [
    "def CNNtrainer(data_vector, training_data, validation_data, data_mean, data_std, model_path, img, pctl):\n",
    "\n",
    "    model_path = model_path+img+'_clouds_'+str(pctl)\n",
    "    model_name = img+'_clouds_'+str(pctl)\n",
    "    checkpoint_filename = model_name+'_checkpoint'\n",
    "    \n",
    "    # Make a new directory for the model\n",
    "    try:\n",
    "        os.mkdir(model_path)\n",
    "    except FileExistsError:\n",
    "        print('Model directory already exists')\n",
    "        \n",
    "#     tf.reset_default_graph()\n",
    "    \n",
    "    import time\n",
    "    def timer(start,end):\n",
    "        hours, rem = divmod(end-start, 3600)\n",
    "        minutes, seconds = divmod(rem, 60)\n",
    "        return str(\"{:0>2}:{:0>2}:{:05.2f}\".format(int(hours),int(minutes),seconds))\n",
    "\n",
    "    # Had to alter some config and runoptions because kept running into OOM at last step during eval \n",
    "    config = tf.ConfigProto(\n",
    "        device_count = {'GPU': 0}\n",
    "    )\n",
    "    config.gpu_options.allow_growth = True\n",
    "    run_options=tf.RunOptions(report_tensor_allocations_upon_oom=True)\n",
    "\n",
    "    flooded = feat_list_files.index('flooded')\n",
    "    \n",
    "    # ------------------------------------------------------------------------------------------------\n",
    "    NUM_INPUT_BANDS = 14\n",
    "    NUM_HIDDEN_1 = 15\n",
    "    NUM_HIDDEN_2 = 15\n",
    "    NUM_CLASSES = 2\n",
    "    BATCH_SIZE = 1000\n",
    "    NUM_BATCHES = 1000\n",
    "\n",
    "    input = tf.placeholder(tf.float32, shape=[None, NUM_INPUT_BANDS], name='input')\n",
    "    labels = tf.placeholder(tf.float32, shape=[None], name='labels')\n",
    "    \n",
    "    normalized = (input - data_mean) / data_std\n",
    "    hidden1 = tf.nn.tanh(make_nn_layer(normalized, NUM_HIDDEN_1), name='hidden1')\n",
    "    hidden2 = tf.nn.tanh(make_nn_layer(hidden1, NUM_HIDDEN_2), name='hidden2')\n",
    "    logits = make_nn_layer(hidden2, NUM_CLASSES)\n",
    "    outputs = tf.argmax(logits, 1, name='outputs')\n",
    "\n",
    "    int_labels = tf.to_int64(labels)\n",
    "    cross_entropy = tf.nn.sparse_softmax_cross_entropy_with_logits(logits = logits, labels = int_labels, name='xentropy')\n",
    "    train_step = tf.train.AdamOptimizer().minimize(cross_entropy) # should we minimize something else?\n",
    "\n",
    "    correct_prediction = tf.equal(outputs, int_labels, name='correct_prediction')\n",
    "    accuracy = tf.reduce_mean(tf.cast(correct_prediction, tf.float32), name='accuracy')\n",
    "    # ------------------------------------------------------------------------------------------------\n",
    "    \n",
    "    mySaver = tf.train.Saver(save_relative_paths=True)\n",
    "    init_op = tf.global_variables_initializer()\n",
    "    start_time = time.time()\n",
    "    \n",
    "    with tf.Session(config=config) as sess:\n",
    "        \n",
    "        sess.run(init_op, options=run_options)\n",
    "\n",
    "        training_dict = {\n",
    "            input: training_data[:,0:14],\n",
    "            labels: training_data[:,14],\n",
    "        }\n",
    "\n",
    "        validation_dict = {\n",
    "            input: validation_data[:,0:14],\n",
    "            labels: validation_data[:,14],\n",
    "        }\n",
    "\n",
    "        for i in range(NUM_BATCHES):\n",
    "            batch = training_data[np.random.choice(training_size, BATCH_SIZE, False),:]\n",
    "            train_step.run({input: batch[:,0:14], labels: batch[:,14]})\n",
    "\n",
    "            if i % 100 == 0 or i == NUM_BATCHES - 1:\n",
    "    #             print('Train acc. %.2f%%, val acc. %.2f%%, train recall %.2f%, val recall %.2f%, train precision %.2f%, val precision %.2f%, at step %d' \n",
    "                print('Train acc. %.2f%%, val acc. %.2f%%, at step %d' \n",
    "                      % (accuracy.eval(training_dict) * 100,\n",
    "                         accuracy.eval(validation_dict) * 100, \n",
    "                         i))\n",
    "                \n",
    "        output_data = outputs.eval({input: data_vector[:,0:14]})\n",
    "\n",
    "        # Save the model\n",
    "        mySaver.save(sess, model_path+'/'+model_name+'.ckpt', \n",
    "                    global_step = NUM_BATCHES)\n",
    "#                     latest_filename=checkpoint_filename)\n",
    "\n",
    "    print('CNN training runtime for ' + str(pctl) + '% cloud cover: ' + timer(start_time, time.time()))\n",
    "    \n",
    "    return output_data\n"
   ]
  },
  {
   "cell_type": "code",
   "execution_count": 8,
   "metadata": {},
   "outputs": [
    {
     "name": "stdout",
     "output_type": "stream",
     "text": [
      "Stack directory already exists\n",
      "Removing existing \"stack.tif\" and creating new one\n"
     ]
    },
    {
     "name": "stderr",
     "output_type": "stream",
     "text": [
      "C:\\Users\\ipdavies\\AppData\\Local\\Continuum\\miniconda3\\envs\\tensorflow\\lib\\site-packages\\rasterio\\__init__.py:160: FutureWarning: GDAL-style transforms are deprecated and will not be supported in Rasterio 1.0.\n",
      "  transform = guard_transform(transform)\n"
     ]
    },
    {
     "name": "stdout",
     "output_type": "stream",
     "text": [
      "Train acc. 48.67%, val acc. 49.60%, at step 0\n",
      "Train acc. 97.38%, val acc. 98.38%, at step 100\n",
      "Train acc. 98.37%, val acc. 99.00%, at step 200\n",
      "Train acc. 98.74%, val acc. 99.32%, at step 300\n",
      "Train acc. 98.89%, val acc. 99.41%, at step 400\n",
      "Train acc. 98.88%, val acc. 99.39%, at step 500\n",
      "Train acc. 98.91%, val acc. 99.42%, at step 600\n",
      "Train acc. 98.92%, val acc. 99.43%, at step 700\n",
      "Train acc. 98.94%, val acc. 99.45%, at step 800\n",
      "Train acc. 98.94%, val acc. 99.44%, at step 900\n",
      "Train acc. 98.95%, val acc. 99.45%, at step 999\n",
      "CNN training runtime for 10% cloud cover: 00:21:08.50\n",
      "Train acc. 41.95%, val acc. 34.33%, at step 0\n",
      "Train acc. 98.06%, val acc. 98.83%, at step 100\n",
      "Train acc. 98.75%, val acc. 99.33%, at step 200\n",
      "Train acc. 98.89%, val acc. 99.42%, at step 300\n",
      "Train acc. 98.92%, val acc. 99.41%, at step 400\n",
      "Train acc. 98.93%, val acc. 99.42%, at step 500\n",
      "Train acc. 98.95%, val acc. 99.44%, at step 600\n",
      "Train acc. 98.95%, val acc. 99.44%, at step 700\n",
      "Train acc. 98.96%, val acc. 99.45%, at step 800\n",
      "Train acc. 98.97%, val acc. 99.46%, at step 900\n",
      "Train acc. 98.96%, val acc. 99.47%, at step 999\n",
      "CNN training runtime for 20% cloud cover: 00:15:07.36\n",
      "Train acc. 50.78%, val acc. 43.91%, at step 0\n",
      "Train acc. 98.20%, val acc. 98.83%, at step 100\n",
      "Train acc. 98.47%, val acc. 99.12%, at step 200\n",
      "Train acc. 98.74%, val acc. 99.30%, at step 300\n",
      "Train acc. 98.86%, val acc. 99.45%, at step 400\n",
      "Train acc. 98.91%, val acc. 99.46%, at step 500\n",
      "Train acc. 98.91%, val acc. 99.46%, at step 600\n",
      "Train acc. 98.93%, val acc. 99.49%, at step 700\n",
      "Train acc. 98.92%, val acc. 99.48%, at step 800\n",
      "Train acc. 98.94%, val acc. 99.49%, at step 900\n",
      "Train acc. 98.95%, val acc. 99.49%, at step 999\n",
      "CNN training runtime for 30% cloud cover: 00:12:54.96\n",
      "Train acc. 50.36%, val acc. 54.25%, at step 0\n",
      "Train acc. 97.71%, val acc. 98.69%, at step 100\n",
      "Train acc. 98.31%, val acc. 98.94%, at step 200\n",
      "Train acc. 98.82%, val acc. 99.44%, at step 300\n",
      "Train acc. 98.85%, val acc. 99.46%, at step 400\n",
      "Train acc. 98.87%, val acc. 99.48%, at step 500\n",
      "Train acc. 98.88%, val acc. 99.48%, at step 600\n",
      "Train acc. 98.89%, val acc. 99.49%, at step 700\n",
      "Train acc. 98.91%, val acc. 99.49%, at step 800\n",
      "Train acc. 98.91%, val acc. 99.50%, at step 900\n",
      "Train acc. 98.91%, val acc. 99.49%, at step 999\n",
      "CNN training runtime for 40% cloud cover: 00:13:27.17\n",
      "Train acc. 43.84%, val acc. 39.51%, at step 0\n",
      "Train acc. 95.56%, val acc. 96.49%, at step 100\n",
      "Train acc. 98.54%, val acc. 99.19%, at step 200\n",
      "Train acc. 98.80%, val acc. 99.47%, at step 300\n",
      "Train acc. 98.86%, val acc. 99.52%, at step 400\n",
      "Train acc. 98.83%, val acc. 99.49%, at step 500\n",
      "Train acc. 98.88%, val acc. 99.52%, at step 600\n",
      "Train acc. 98.89%, val acc. 99.52%, at step 700\n",
      "Train acc. 98.86%, val acc. 99.52%, at step 800\n",
      "Train acc. 98.89%, val acc. 99.53%, at step 900\n",
      "Train acc. 98.89%, val acc. 99.52%, at step 999\n",
      "CNN training runtime for 50% cloud cover: 00:10:26.18\n",
      "Train acc. 55.66%, val acc. 49.34%, at step 0\n",
      "Train acc. 97.56%, val acc. 98.44%, at step 100\n",
      "Train acc. 98.40%, val acc. 99.07%, at step 200\n",
      "Train acc. 98.72%, val acc. 99.45%, at step 300\n",
      "Train acc. 98.85%, val acc. 99.51%, at step 400\n",
      "Train acc. 98.87%, val acc. 99.52%, at step 500\n",
      "Train acc. 98.90%, val acc. 99.51%, at step 600\n",
      "Train acc. 98.88%, val acc. 99.49%, at step 700\n",
      "Train acc. 98.91%, val acc. 99.51%, at step 800\n",
      "Train acc. 98.91%, val acc. 99.50%, at step 900\n",
      "Train acc. 98.91%, val acc. 99.50%, at step 999\n",
      "CNN training runtime for 60% cloud cover: 00:06:57.00\n",
      "Train acc. 42.90%, val acc. 40.08%, at step 0\n",
      "Train acc. 94.94%, val acc. 95.76%, at step 100\n",
      "Train acc. 98.35%, val acc. 98.81%, at step 200\n",
      "Train acc. 98.92%, val acc. 99.46%, at step 300\n",
      "Train acc. 98.96%, val acc. 99.51%, at step 400\n",
      "Train acc. 98.97%, val acc. 99.52%, at step 500\n",
      "Train acc. 98.99%, val acc. 99.53%, at step 600\n",
      "Train acc. 98.99%, val acc. 99.53%, at step 700\n",
      "Train acc. 99.00%, val acc. 99.54%, at step 800\n",
      "Train acc. 99.02%, val acc. 99.57%, at step 900\n",
      "Train acc. 99.03%, val acc. 99.57%, at step 999\n",
      "CNN training runtime for 70% cloud cover: 00:05:13.87\n",
      "Train acc. 53.71%, val acc. 51.12%, at step 0\n",
      "Train acc. 98.46%, val acc. 98.78%, at step 100\n",
      "Train acc. 98.85%, val acc. 99.45%, at step 200\n",
      "Train acc. 98.92%, val acc. 99.54%, at step 300\n",
      "Train acc. 99.00%, val acc. 99.59%, at step 400\n",
      "Train acc. 99.05%, val acc. 99.62%, at step 500\n",
      "Train acc. 99.06%, val acc. 99.63%, at step 600\n",
      "Train acc. 99.08%, val acc. 99.63%, at step 700\n",
      "Train acc. 99.08%, val acc. 99.64%, at step 800\n",
      "Train acc. 99.09%, val acc. 99.64%, at step 900\n",
      "Train acc. 99.10%, val acc. 99.64%, at step 999\n",
      "CNN training runtime for 80% cloud cover: 00:03:13.56\n",
      "Train acc. 50.70%, val acc. 51.31%, at step 0\n",
      "Train acc. 98.23%, val acc. 99.57%, at step 100\n",
      "Train acc. 98.75%, val acc. 99.66%, at step 200\n",
      "Train acc. 98.97%, val acc. 99.70%, at step 300\n",
      "Train acc. 99.16%, val acc. 99.74%, at step 400\n",
      "Train acc. 99.19%, val acc. 99.74%, at step 500\n",
      "Train acc. 99.19%, val acc. 99.74%, at step 600\n",
      "Train acc. 99.20%, val acc. 99.74%, at step 700\n",
      "Train acc. 99.21%, val acc. 99.75%, at step 800\n",
      "Train acc. 99.21%, val acc. 99.75%, at step 900\n",
      "Train acc. 99.21%, val acc. 99.76%, at step 999\n",
      "CNN training runtime for 90% cloud cover: 00:01:20.46\n",
      "   cloud_cover  accuracy  precision    recall        f1         time\n",
      "0         10.0  0.989959   0.934710  0.832605  0.880708  1268.809597\n",
      "1         20.0  0.990134   0.930546  0.837532  0.881593   907.672701\n",
      "2         30.0  0.990000   0.933589  0.832798  0.880318   775.316339\n",
      "3         40.0  0.989717   0.938264  0.821591  0.876060   807.549678\n",
      "4         50.0  0.989529   0.928120  0.817465  0.869285   626.633551\n",
      "5         60.0  0.989727   0.909565  0.825726  0.865620   417.440414\n",
      "6         70.0  0.990862   0.929092  0.821695  0.872099   314.355662\n",
      "7         80.0  0.991561   0.919843  0.805588  0.858933   194.040981\n",
      "8         90.0  0.992625   0.879482  0.760716  0.815799    80.981517\n"
     ]
    }
   ],
   "source": [
    "# Loop to do all the functions together\n",
    "\n",
    "path = 'C:/Users/ipdavies/CPR/data/'\n",
    "feat_list_new = ['aspect','curve', 'developed', 'distExtent', 'elevation', 'forest',\n",
    " 'GSW_maxExtent', 'hand', 'other_landcover', 'planted', 'slope', 'spi', 'twi', 'wetlands', 'flooded']\n",
    "model_path = path+'models/cnn_vary_clouds/'\n",
    "img = '4337_LC08_026038_20160325_1'\n",
    "pctls = [10,20,30,40,50,60,70,80,90]\n",
    "\n",
    "#  Stack all the flood imagery\n",
    "feat_list_files = tifStacker(path, img, feat_list_new)\n",
    "\n",
    "precision = []\n",
    "recall = []\n",
    "f1 = []\n",
    "accuracy = []\n",
    "times = []\n",
    "\n",
    "# Load stacked image, preprocess\n",
    "for i, pctl in enumerate(pctls):\n",
    "    \n",
    "    data, data_ind = preprocessing(path, img, pctl)\n",
    "    \n",
    "    data_vector, training_data, validation_data, data_mean, data_std, training_size = trainVal(data)\n",
    "    \n",
    "    start_time = time.time() # Start timer for CNN training\n",
    "    \n",
    "    y_pred = CNNtrainer(data_vector, training_data, validation_data, data_mean, data_std, model_path, img, pctl)\n",
    "    \n",
    "    times.append(time.time() - start_time) # Elapsed time in seconds\n",
    "    \n",
    "    y_true = data_vector[:,14]\n",
    "    \n",
    "    precision.append(sklearn.metrics.precision_score(y_true, y_pred))\n",
    "    recall.append(sklearn.metrics.recall_score(y_true, y_pred))\n",
    "    f1.append(sklearn.metrics.f1_score(y_true, y_pred))\n",
    "    accuracy.append(sklearn.metrics.accuracy_score(y_true, y_pred))\n",
    "    \n",
    "metrics = pd.DataFrame(np.column_stack([pctls, accuracy, precision, recall, f1, times]),\n",
    "                      columns=['cloud_cover','accuracy','precision','recall','f1', 'time'])\n",
    "\n",
    "print(metrics)\n",
    "    "
   ]
  },
  {
   "cell_type": "markdown",
   "metadata": {},
   "source": [
    "Need to add a printout or metric with how many flooded pixels are in train/test dataset."
   ]
  },
  {
   "cell_type": "code",
   "execution_count": 9,
   "metadata": {},
   "outputs": [
    {
     "data": {
      "text/plain": [
       "<matplotlib.axes._subplots.AxesSubplot at 0x2bd5d3ffa90>"
      ]
     },
     "execution_count": 9,
     "metadata": {},
     "output_type": "execute_result"
    },
    {
     "data": {
      "image/png": "[encoded data removed]",
      "text/plain": [
       "<Figure size 432x288 with 1 Axes>"
      ]
     },
     "metadata": {
      "needs_background": "light"
     },
     "output_type": "display_data"
    }
   ],
   "source": [
    "metrics.to_csv(path+'tables/CNN_cloud_metrics/'+'train_'+img+'.csv', index=False)\n",
    "\n",
    "# Visualize training metrics\n",
    "\n",
    "metrics = pd.read_csv(path+'tables/CNN_cloud_metrics/'+'train_'+img+'.csv')\n",
    "metrics.plot(x='cloud_cover', y=['recall', 'precision','f1','accuracy'])"
   ]
  },
  {
   "cell_type": "markdown",
   "metadata": {},
   "source": [
    "### Predict on cloud gaps"
   ]
  },
  {
   "cell_type": "code",
   "execution_count": 11,
   "metadata": {},
   "outputs": [],
   "source": [
    "def preprocessing_gaps(path, img, pctl):\n",
    "\n",
    "    # Get local image\n",
    "    with rasterio.open(path + 'images/'+ img + '/stack/stack.tif', 'r') as ds:\n",
    "        data = ds.read()\n",
    "        data = data.transpose((1, -1, 0)) # Not sure why the rasterio.read output is originally (D, W, H)\n",
    "    \n",
    "    # load cloudmasks\n",
    "    cloudMaskDir = path+'cloudmasks/'+img\n",
    "    \n",
    "    cloudMask = np.load(cloudMaskDir+'/'+img+'_clouds_'+str(pctl)+'.npy')\n",
    "    \n",
    "    # Invert cloudmask to get the gaps\n",
    "    cloudMask = np.invert(cloudMask)\n",
    "    \n",
    "    # Need to remove NaNs because any arithmetic operation involving an NaN will result in NaN\n",
    "    data[cloudMask] = -999999\n",
    "    \n",
    "    # Convert -999999 to None\n",
    "    data[data == -999999] = np.nan\n",
    "\n",
    "    # Get indices of non-nan values. These are the indices of the original image array\n",
    "    data_ind = np.where(~np.isnan(data[:,:,1]))\n",
    "    \n",
    "    # Reshape into a single vector of pixels.\n",
    "    data_vector = data.reshape([data.shape[0] * data.shape[1], data.shape[2]])\n",
    "\n",
    "    # Remove NaNs\n",
    "    data_vector = data_vector[~np.isnan(data_vector).any(axis=1)]\n",
    "\n",
    "    # Compute per-band means and standard deviations of the input bands.\n",
    "    data_mean = data_vector[:,0:14].mean(0)\n",
    "    data_std = data_vector[:,0:14].std(0)\n",
    "\n",
    "    return data_vector, data_mean, data_std, data_ind"
   ]
  },
  {
   "cell_type": "markdown",
   "metadata": {},
   "source": [
    "Problem: TF doesn't save every variable, like outputs or input, so we need to save those somehow\n",
    "https://stackoverflow.com/questions/43887425/how-to-import-a-model-in-tensorflow"
   ]
  },
  {
   "cell_type": "code",
   "execution_count": 31,
   "metadata": {},
   "outputs": [],
   "source": [
    "def gapFill(data_vector, data_mean, data_std, img, pctl, model_path):\n",
    "    \n",
    "    tf.reset_default_graph()\n",
    "    \n",
    "    model_path = model_path+img+'_clouds_'+str(pctl)\n",
    "    model_name = img+'_clouds_'+str(pctl)\n",
    "    checkpoint_filename = model_name+'_checkpoint'\n",
    "    \n",
    "    # Had to alter some config and runoptions because kept running into OOM at last step during eval \n",
    "    config = tf.ConfigProto(\n",
    "        device_count = {'GPU': 0}\n",
    "    )\n",
    "\n",
    "    config.gpu_options.allow_growth = True\n",
    "    run_options=tf.RunOptions(report_tensor_allocations_upon_oom=True)\n",
    "\n",
    "    with tf.Session(config=config) as sess:\n",
    "#     with tf.Session() as sess:\n",
    "        mySaver = tf.train.import_meta_graph(model_path+'/'+model_name+'.ckpt-1000.meta') # Get metadata of saved graph\n",
    "        mySaver.restore(sess, tf.train.latest_checkpoint(checkpoint_dir=model_path+'./')) # Restore checkpoint\n",
    "        graph = tf.get_default_graph()\n",
    "        input = graph.get_tensor_by_name(\"input:0\") # Get inputs placeholder\n",
    "        labels = graph.get_tensor_by_name(\"labels:0\") # Get inputs placeholder\n",
    "        outputs = graph.get_tensor_by_name('outputs:0') # Get outputs\n",
    "        hidden1 = graph.get_tensor_by_name('hidden1:0')\n",
    "        hidden2 = graph.get_tensor_by_name('hidden2:0')\n",
    "#         cross_entropy = graph.get_operation_by_name('xentropy:0')\n",
    "        tf.global_variables_initializer()\n",
    "\n",
    "        \n",
    "        \n",
    "        y_pred = outputs.eval({input: data_vector[:,0:14]})\n",
    "\n",
    "    return y_pred"
   ]
  },
  {
   "cell_type": "code",
   "execution_count": 32,
   "metadata": {},
   "outputs": [
    {
     "name": "stdout",
     "output_type": "stream",
     "text": [
      "INFO:tensorflow:Restoring parameters from C:/Users/ipdavies/CPR/data/models/cnn_vary_clouds/4337_LC08_026038_20160325_1_clouds_10./4337_LC08_026038_20160325_1_clouds_10.ckpt-1000\n",
      "INFO:tensorflow:Restoring parameters from C:/Users/ipdavies/CPR/data/models/cnn_vary_clouds/4337_LC08_026038_20160325_1_clouds_20./4337_LC08_026038_20160325_1_clouds_20.ckpt-1000\n",
      "INFO:tensorflow:Restoring parameters from C:/Users/ipdavies/CPR/data/models/cnn_vary_clouds/4337_LC08_026038_20160325_1_clouds_30./4337_LC08_026038_20160325_1_clouds_30.ckpt-1000\n",
      "INFO:tensorflow:Restoring parameters from C:/Users/ipdavies/CPR/data/models/cnn_vary_clouds/4337_LC08_026038_20160325_1_clouds_40./4337_LC08_026038_20160325_1_clouds_40.ckpt-1000\n",
      "INFO:tensorflow:Restoring parameters from C:/Users/ipdavies/CPR/data/models/cnn_vary_clouds/4337_LC08_026038_20160325_1_clouds_50./4337_LC08_026038_20160325_1_clouds_50.ckpt-1000\n",
      "INFO:tensorflow:Restoring parameters from C:/Users/ipdavies/CPR/data/models/cnn_vary_clouds/4337_LC08_026038_20160325_1_clouds_60./4337_LC08_026038_20160325_1_clouds_60.ckpt-1000\n",
      "INFO:tensorflow:Restoring parameters from C:/Users/ipdavies/CPR/data/models/cnn_vary_clouds/4337_LC08_026038_20160325_1_clouds_70./4337_LC08_026038_20160325_1_clouds_70.ckpt-1000\n",
      "INFO:tensorflow:Restoring parameters from C:/Users/ipdavies/CPR/data/models/cnn_vary_clouds/4337_LC08_026038_20160325_1_clouds_80./4337_LC08_026038_20160325_1_clouds_80.ckpt-1000\n",
      "INFO:tensorflow:Restoring parameters from C:/Users/ipdavies/CPR/data/models/cnn_vary_clouds/4337_LC08_026038_20160325_1_clouds_90./4337_LC08_026038_20160325_1_clouds_90.ckpt-1000\n"
     ]
    }
   ],
   "source": [
    "model_path = path+'models/cnn_vary_clouds/'\n",
    "pctls = [10,20,30,40,50,60,70,80,90]\n",
    "img = '4337_LC08_026038_20160325_1'\n",
    "pctls = [10,20,30,40,50,60,70,80,90]\n",
    "import math\n",
    "\n",
    "accuracy = []\n",
    "predictions = []\n",
    "\n",
    "precision = []\n",
    "recall = []\n",
    "f1 = []\n",
    "\n",
    "precision_w = []\n",
    "recall_w = []\n",
    "f1_w = []\n",
    "\n",
    "for i, pctl in enumerate(pctls):\n",
    "    \n",
    "    data_vector, data_mean, data_std, data_ind = preprocessing_gaps(path, img, pctl)\n",
    "    \n",
    "    y_pred = gapFill(data_vector, data_mean, data_std, img, pctl, model_path)\n",
    "    \n",
    "    y_true = data_vector[:,14]\n",
    "    \n",
    "    accuracy.append(sklearn.metrics.accuracy_score(y_true, y_pred))\n",
    "    \n",
    "    precision.append(sklearn.metrics.precision_score(y_true, y_pred))\n",
    "    recall.append(sklearn.metrics.recall_score(y_true, y_pred))\n",
    "    f1.append(sklearn.metrics.f1_score(y_true, y_pred))\n",
    "    \n",
    "    precision_w.append(sklearn.metrics.precision_score(y_true, y_pred, average='weighted'))\n",
    "    recall_w.append(sklearn.metrics.recall_score(y_true, y_pred, average='weighted'))\n",
    "    f1_w.append(sklearn.metrics.f1_score(y_true, y_pred, average='weighted'))\n",
    "    \n",
    "    predictions.append(y_pred)"
   ]
  },
  {
   "cell_type": "code",
   "execution_count": null,
   "metadata": {},
   "outputs": [],
   "source": [
    "data_vector, data_mean, data_std, data_ind = preprocessing_gaps(path, img, pctl)\n",
    "predictions[0] == data_vector"
   ]
  },
  {
   "cell_type": "code",
   "execution_count": 34,
   "metadata": {},
   "outputs": [
    {
     "data": {
      "text/plain": [
       "<matplotlib.axes._subplots.AxesSubplot at 0x21010dffa90>"
      ]
     },
     "execution_count": 34,
     "metadata": {},
     "output_type": "execute_result"
    },
    {
     "data": {
      "image/png": "[encoded data removed]",
      "text/plain": [
       "<Figure size 432x288 with 1 Axes>"
      ]
     },
     "metadata": {
      "needs_background": "light"
     },
     "output_type": "display_data"
    }
   ],
   "source": [
    "gap_metrics_w = pd.DataFrame(np.column_stack([pctls, accuracy, precision_w, recall_w, f1_w]),\n",
    "                      columns=['cloud_cover','accuracy','precision_w','recall_w','f1_w'])\n",
    "\n",
    "gap_metrics_w.plot(x='cloud_cover', y=['recall_w', 'precision_w','f1_w','accuracy'])\n",
    "\n",
    "# gap_metrics.to_csv(path+'tables/CNN_cloud_metrics/'+'gap_'+img+'.csv', index=False)"
   ]
  },
  {
   "cell_type": "code",
   "execution_count": 33,
   "metadata": {
    "scrolled": true
   },
   "outputs": [
    {
     "data": {
      "text/plain": [
       "<matplotlib.axes._subplots.AxesSubplot at 0x2100a6b95c0>"
      ]
     },
     "execution_count": 33,
     "metadata": {},
     "output_type": "execute_result"
    },
    {
     "data": {
      "image/png": "[encoded data removed]",
      "text/plain": [
       "<Figure size 432x288 with 1 Axes>"
      ]
     },
     "metadata": {
      "needs_background": "light"
     },
     "output_type": "display_data"
    }
   ],
   "source": [
    "gap_metrics = pd.DataFrame(np.column_stack([pctls, accuracy, precision, recall, f1]),\n",
    "                      columns=['cloud_cover','accuracy','precision','recall','f1'])\n",
    "\n",
    "gap_metrics.plot(x='cloud_cover', y=['recall', 'precision','f1','accuracy'])\n",
    "\n",
    "# gap_metrics.to_csv(path+'tables/CNN_cloud_metrics/'+'gap_'+img+'.csv', index=False)"
   ]
  },
  {
   "cell_type": "markdown",
   "metadata": {},
   "source": [
    "Why do the metrics not decline linearly?\n",
    " - Not enough flooded pixels in training set\n",
    "\n",
    "Test metrics vs ...\n",
    "- Number of flooded pixels in training / number of flooded pixels in image\n",
    " "
   ]
  },
  {
   "cell_type": "markdown",
   "metadata": {},
   "source": [
    "### Plot filled gaps\n",
    "\n",
    "First create binary correct/incorrect prediction image"
   ]
  },
  {
   "cell_type": "code",
   "execution_count": 115,
   "metadata": {},
   "outputs": [],
   "source": [
    "model_path = path+'models/cnn_vary_clouds/'\n",
    "img = '4337_LC08_026038_20160325_1'\n",
    "pctls = [10,20,30,40,50,60,70,80,90]\n",
    "\n",
    "flooded_imgs = []\n",
    "prediction_imgs = []\n",
    "\n",
    "# Reshape predicted values back into image band\n",
    "with rasterio.open(path + 'images/'+ img + '/stack/stack.tif', 'r') as ds:\n",
    "        shape = ds.read(1).shape # Shape of full original image\n",
    "        arr_empty = np.zeros(shape) # Create empty array with this shape\n",
    "        arr_empty[:] = np.nan # Convert all zeroes to NaN\n",
    "            \n",
    "for i, pctl in enumerate(pctls):\n",
    "    data_vector, data_mean, data_std, data_ind = preprocessing_gaps(path, img, pctl)\n",
    "\n",
    "    # Add predicted values to cloud-covered pixel positions\n",
    "    prediction_img = arr_empty\n",
    "    rows, cols = zip(data_ind)\n",
    "    prediction_img[rows, cols] = predictions[i]\n",
    "    prediction_imgs.append(prediction_img)\n",
    "    \n",
    "    # Add actual flood values to cloud-covered pixel positions\n",
    "    flooded_img = arr_empty\n",
    "    flooded_img[rows, cols] = data_vector[:,14]\n",
    "    flooded_imgs.append(flooded_img)"
   ]
  },
  {
   "cell_type": "code",
   "execution_count": 116,
   "metadata": {},
   "outputs": [
    {
     "data": {
      "text/plain": [
       "True"
      ]
     },
     "execution_count": 116,
     "metadata": {},
     "output_type": "execute_result"
    }
   ],
   "source": [
    "flooded_imgs == prediction_imgs"
   ]
  },
  {
   "cell_type": "code",
   "execution_count": 1,
   "metadata": {},
   "outputs": [
    {
     "ename": "NameError",
     "evalue": "name 'plt' is not defined",
     "output_type": "error",
     "traceback": [
      "\u001b[1;31m---------------------------------------------------------------------------\u001b[0m",
      "\u001b[1;31mNameError\u001b[0m                                 Traceback (most recent call last)",
      "\u001b[1;32m<ipython-input-1-e3ab910cfd49>\u001b[0m in \u001b[0;36m<module>\u001b[1;34m()\u001b[0m\n\u001b[1;32m----> 1\u001b[1;33m \u001b[0mplt\u001b[0m\u001b[1;33m.\u001b[0m\u001b[0mfigure\u001b[0m\u001b[1;33m(\u001b[0m\u001b[0mfigsize\u001b[0m\u001b[1;33m=\u001b[0m\u001b[1;33m(\u001b[0m\u001b[1;36m20\u001b[0m\u001b[1;33m,\u001b[0m\u001b[1;36m100\u001b[0m\u001b[1;33m)\u001b[0m\u001b[1;33m)\u001b[0m\u001b[1;33m\u001b[0m\u001b[0m\n\u001b[0m\u001b[0;32m      2\u001b[0m \u001b[0mcolumns\u001b[0m \u001b[1;33m=\u001b[0m \u001b[1;36m2\u001b[0m\u001b[1;33m\u001b[0m\u001b[0m\n\u001b[0;32m      3\u001b[0m \u001b[1;33m\u001b[0m\u001b[0m\n\u001b[0;32m      4\u001b[0m \u001b[0mimages\u001b[0m \u001b[1;33m=\u001b[0m \u001b[1;33m[\u001b[0m\u001b[1;33m]\u001b[0m\u001b[1;33m\u001b[0m\u001b[0m\n\u001b[0;32m      5\u001b[0m \u001b[1;33m\u001b[0m\u001b[0m\n",
      "\u001b[1;31mNameError\u001b[0m: name 'plt' is not defined"
     ]
    }
   ],
   "source": [
    "plt.figure(figsize=(20,100))\n",
    "columns = 2\n",
    "\n",
    "images = []\n",
    "\n",
    "for i in range(len(flooded_imgs)):\n",
    "    images.append(flooded_imgs[i])\n",
    "    images.append(prediction_imgs[i])\n",
    "\n",
    "for i, image in enumerate(images):\n",
    "    plt.subplot(len(images) / columns + 1, columns, i + 1)\n",
    "#     plt.suptitle('Actual flooding, predicted flooding', fontsize=20)\n",
    "    plt.imshow(image)\n",
    "    plt.colorbar"
   ]
  }
 ],
 "metadata": {
  "kernelspec": {
   "display_name": "Python (tensorflow)",
   "language": "python",
   "name": "tensorflow"
  },
  "language_info": {
   "codemirror_mode": {
    "name": "ipython",
    "version": 3
   },
   "file_extension": ".py",
   "mimetype": "text/x-python",
   "name": "python",
   "nbconvert_exporter": "python",
   "pygments_lexer": "ipython3",
   "version": "3.6.6"
  }
 },
 "nbformat": 4,
 "nbformat_minor": 2
}
