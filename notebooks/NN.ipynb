{
 "cells": [
  {
   "cell_type": "markdown",
   "metadata": {},
   "source": [
    "# Training a CNN in TensorFlow for cloud gap filling"
   ]
  },
  {
   "cell_type": "markdown",
   "metadata": {},
   "source": [
    "Based on Tylere's tutorial https://github.com/tylere/ee-jupyter-examples/blob/master/4%20-%20Earth%20Engine%20and%20TensorFlow.ipynb - Earth Engine and TensorFlow.ipynb"
   ]
  },
  {
   "cell_type": "code",
   "execution_count": 3,
   "metadata": {},
   "outputs": [],
   "source": [
    "from IPython import display\n",
    "import math\n",
    "import pandas as pd\n",
    "from matplotlib import pyplot as plt\n",
    "import numpy as np\n",
    "# from osgeo import gdal\n",
    "# import tempfile\n",
    "import tensorflow as tf\n",
    "# import urllib\n",
    "# import zipfile"
   ]
  },
  {
   "cell_type": "markdown",
   "metadata": {},
   "source": [
    "### Local parameters"
   ]
  },
  {
   "cell_type": "code",
   "execution_count": 4,
   "metadata": {},
   "outputs": [],
   "source": [
    "path = 'C:/Users/ipdavies/CPR/data/images/4337_LC08_026038_20160325_1/4337_LC08_026038_20160325_1.zip'\n",
    "model_name = 'cnn2'\n",
    "model_path = 'C:/Users/ipdavies/CPR/data/models/'+model_name+'/'"
   ]
  },
  {
   "cell_type": "markdown",
   "metadata": {},
   "source": [
    "### Load single flood scene downloaded from GEE and stack into multiband image\n",
    "Each band is a separate .tif file, so this reorders them with the target feature ('flooded') last and stacks them into one multi-band .tif"
   ]
  },
  {
   "cell_type": "code",
   "execution_count": 5,
   "metadata": {},
   "outputs": [
    {
     "name": "stdout",
     "output_type": "stream",
     "text": [
      "Stack directory already exists\n",
      "Removing existing \"stack.tif\" and creating new one\n"
     ]
    },
    {
     "name": "stderr",
     "output_type": "stream",
     "text": [
      "C:\\Users\\ipdavies\\AppData\\Local\\Continuum\\miniconda3\\envs\\tensorflow\\lib\\site-packages\\rasterio\\__init__.py:160: FutureWarning: GDAL-style transforms are deprecated and will not be supported in Rasterio 1.0.\n",
      "  transform = guard_transform(transform)\n"
     ]
    }
   ],
   "source": [
    "# Stack exported tifs from GEE into one multiband tif\n",
    "import rasterio\n",
    "import os\n",
    "from zipfile import *\n",
    "\n",
    "file_list = []\n",
    "with ZipFile(path, 'r') as f:\n",
    "    names = f.namelist()\n",
    "    names = ['zip://'+path+'!'+name for name in names]\n",
    "    for file in names:\n",
    "        if file.endswith('.tif'):\n",
    "            file_list.append(file)\n",
    "\n",
    "feat_list_files = list(map(lambda x: x.split('.')[-2], file_list)) # list of features in file order\n",
    "\n",
    "#=========== Want to rearrange the order of files so that target feature is last\n",
    "\n",
    "# Create list of features with target feature (flooded) last\n",
    "feat_list_new = ['aspect','curve', 'developed', 'distExtent', 'elevation', 'forest',\n",
    " 'GSW_maxExtent', 'hand', 'other_landcover', 'planted', 'slope', 'spi', 'twi', 'wetlands', 'flooded']\n",
    "\n",
    "# Create 1 row df of file names where each col is a feature name, in the order files are stored locally\n",
    "file_arr = pd.DataFrame(data=[file_list], columns=feat_list_files)\n",
    "\n",
    "# Then index the file list by the ordered list of feature names used in training\n",
    "file_arr = file_arr.loc[:, feat_list_new]\n",
    "\n",
    "# The take this re-ordered row as a list - the new file_list\n",
    "file_list = list(file_arr.iloc[0,:])\n",
    "    \n",
    "# Read metadata of first file. This needs to be a band in float32 dtype, because it sets the metadata for the entire stack\n",
    "# and we are converting the other bands to float64\n",
    "with rasterio.open(file_list[1]) as src0:\n",
    "    meta = src0.meta\n",
    "    meta['dtype'] = 'float32'\n",
    "#         print(meta)\n",
    "\n",
    "# Update meta to reflect the number of layers\n",
    "meta.update(count = len(file_list))\n",
    "\n",
    "# Read each layer, convert to float, and write it to stack\n",
    "# There's also a gdal way to do this, but unsure how to convert to float: https://gis.stackexchange.com/questions/223910/using-rasterio-or-gdal-to-stack-multiple-bands-without-using-subprocess-commands\n",
    "\n",
    "# Make new directory for stacked tif if it doesn't already exist\n",
    "try:\n",
    "    os.mkdir(path + '/../'+'/stack')\n",
    "except FileExistsError:\n",
    "    print('Stack directory already exists')\n",
    "\n",
    "# Remove stack file if already exists\n",
    "try:\n",
    "    os.remove(path + '/../' + '/stack/stack.tif')\n",
    "    print('Removing existing \"stack.tif\" and creating new one')\n",
    "except FileNotFoundError:\n",
    "#     pass\n",
    "    print('Creating \"stack.tif\"')\n",
    "\n",
    "with rasterio.open(path + '/../' + '/stack/stack.tif', 'w', **meta) as dst:\n",
    "    for id, layer in enumerate(file_list, start=0):\n",
    "        with rasterio.open(layer) as src1:\n",
    "            dst.write_band(id+1, src1.read(1).astype('float32'))\n"
   ]
  },
  {
   "cell_type": "markdown",
   "metadata": {},
   "source": [
    "### Pre-process data\n",
    "Load stacked image, convert -999999 NoData markers to NaN. Then, get a vector of the indices of all non-NaN values. This way, we can safely remove the NaNs, train the model, and then reshape the NaNs and predicted values into a complete image afterwards to visualize."
   ]
  },
  {
   "cell_type": "code",
   "execution_count": 6,
   "metadata": {},
   "outputs": [
    {
     "data": {
      "text/plain": [
       "15096121"
      ]
     },
     "execution_count": 6,
     "metadata": {},
     "output_type": "execute_result"
    }
   ],
   "source": [
    "# Preprocess the data\n",
    "\n",
    "# Get local image\n",
    "with rasterio.open(path + '/../' +'/stack/stack.tif', 'r') as ds:\n",
    "    data = ds.read()\n",
    "    data = data.transpose((1, -1, 0)) # Not sure why the rasterio.read output is originally (D, W, H)\n",
    "\n",
    "# Need to remove NaNs because any arithmetic operation involving an NaN will result in NaN\n",
    "\n",
    "# Convert -999999 to None\n",
    "data[data == -999999] = np.nan\n",
    "\n",
    "# Get indices of non-nan values. These are the indices of the original image array\n",
    "# data_ind = np.where(data[:,:,1] != None)\n",
    "data_ind = np.where(~np.isnan(data[:,:,1]))\n",
    "row, col = zip(np.where(~np.isnan(data[:,:,1]))) # image row and col of values\n",
    "len(*row)\n"
   ]
  },
  {
   "cell_type": "markdown",
   "metadata": {},
   "source": [
    "Reshape the 3d array into a 2d array, where each row is an instance, or pixel, and each column is a feature, or band. "
   ]
  },
  {
   "cell_type": "code",
   "execution_count": 7,
   "metadata": {},
   "outputs": [],
   "source": [
    "HOLDOUT_FRACTION = 0.1\n",
    "\n",
    "# Reshape into a single vector of pixels.\n",
    "data_vector = data.reshape([data.shape[0] * data.shape[1], data.shape[2]])\n",
    "\n",
    "# Remove NaNs\n",
    "data_vector = data_vector[~np.isnan(data_vector).any(axis=1)]\n",
    "data_vector.shape\n",
    "\n",
    "# Select only the valid data and shuffle it.\n",
    "# valid_data = data_vector[numpy.equal(data_vector[:,8], 1)]\n",
    "# np.random.shuffle(data_vector)\n",
    "\n",
    "# Hold out a fraction of the labeled data for validation.\n",
    "training_size = int(data_vector.shape[0] * (1 - HOLDOUT_FRACTION))\n",
    "training_data = data_vector[0:training_size,:]\n",
    "validation_data = data_vector[training_size:-1,:]\n",
    "\n",
    "# Compute per-band means and standard deviations of the input bands.\n",
    "data_mean = training_data[:,0:14].mean(0)\n",
    "data_std = training_data[:,0:14].std(0)"
   ]
  },
  {
   "cell_type": "markdown",
   "metadata": {},
   "source": [
    "### Exploratory analysis of our dataset"
   ]
  },
  {
   "cell_type": "code",
   "execution_count": 14,
   "metadata": {},
   "outputs": [
    {
     "data": {
      "image/png": "[encoded data removed]",
      "text/plain": [
       "<Figure size 864x720 with 16 Axes>"
      ]
     },
     "metadata": {
      "needs_background": "light"
     },
     "output_type": "display_data"
    }
   ],
   "source": [
    "# Convert array to pd df and view histogram\n",
    "df = pd.DataFrame(data=data_vector, columns=feat_list_new)\n",
    "hist = df.hist(figsize=(12, 10))\n",
    "hist\n",
    "plt.show()"
   ]
  },
  {
   "cell_type": "code",
   "execution_count": 9,
   "metadata": {},
   "outputs": [
    {
     "name": "stdout",
     "output_type": "stream",
     "text": [
      "4.76% of the pixels in this image are flooded\n"
     ]
    }
   ],
   "source": [
    "# How imbalanced is our dataset? Flooded vs. non-flooded pixels\n",
    "print(str(round(np.sum(data_vector[:,14]==1)/np.sum(data_vector[:,14]==0)*100, 2))+'% of the pixels in this image are flooded')\n"
   ]
  },
  {
   "cell_type": "code",
   "execution_count": 19,
   "metadata": {},
   "outputs": [
    {
     "data": {
      "text/plain": [
       "array([130.21997  ,  -3.       ,   1.       , 337.       , 140.       ,\n",
       "         0.       ,   0.       ,   3.       ,   0.       ,   0.       ,\n",
       "         1.4360577,  24.45748  ,  11.453079 ,   0.       ,   0.       ],\n",
       "      dtype=float32)"
      ]
     },
     "execution_count": 19,
     "metadata": {},
     "output_type": "execute_result"
    }
   ],
   "source": [
    "data_vector[0]"
   ]
  },
  {
   "cell_type": "code",
   "execution_count": 24,
   "metadata": {},
   "outputs": [
    {
     "data": {
      "image/png": "[encoded data removed]",
      "text/plain": [
       "<Figure size 432x288 with 1 Axes>"
      ]
     },
     "metadata": {
      "needs_background": "light"
     },
     "output_type": "display_data"
    }
   ],
   "source": [
    "# Visualize flooded pixels in training data\n",
    "with rasterio.open(path + '/../' +'/stack/stack.tif', 'r') as ds:\n",
    "    flood_img = ds.read(9)\n",
    "    plt.imshow(flood_img)\n",
    "\n",
    "# plt.figure(figsize=(20,30))\n",
    "# columns = 2\n",
    "# images = [output_image, data[:,:,14]]\n",
    "# titles = ['Predicted Flooding','Actual Flooding']\n",
    "# for i, image in enumerate(images):\n",
    "#     plt.subplot(len(images) / columns + 1, columns, i + 1)\n",
    "#     plt.title(titles[i], fontdict = {'fontsize' : 18})\n",
    "#     plt.imshow(image)\n",
    "#     plt.colorbar"
   ]
  },
  {
   "cell_type": "markdown",
   "metadata": {},
   "source": [
    "### Training the CNN"
   ]
  },
  {
   "cell_type": "code",
   "execution_count": null,
   "metadata": {},
   "outputs": [],
   "source": [
    "# CNN layer builder\n",
    "def make_nn_layer(input, output_size):\n",
    "    input_size = input.get_shape().as_list()[1]\n",
    "    weights = tf.Variable(tf.truncated_normal(\n",
    "        [input_size, output_size],\n",
    "        stddev=1.0 / math.sqrt(float(input_size))))\n",
    "    biases = tf.Variable(tf.zeros([output_size]))\n",
    "    return tf.matmul(input, weights) + biases"
   ]
  },
  {
   "cell_type": "markdown",
   "metadata": {},
   "source": [
    "Instantiate neural network with two hidden layers with tanh() nonlinearities. The network has two continuous outputs, flood or non-flood. The binary output is interpreted as the argmax of these outputs. \n",
    "\n",
    "We define a training step, which uses Kingma and Ba's Adam algorithm to minimize the cross-entropy between the logits and the training data. Finally, we define a simple overall percentage accuracy measure.\n",
    "\n",
    "Accuracy reported at each step, but recall/precision probably more important given the imbalanced dataset (~4% flooded in clear image, ~12% in cloud gaps)"
   ]
  },
  {
   "cell_type": "code",
   "execution_count": null,
   "metadata": {},
   "outputs": [],
   "source": [
    "# These are all hyperparameters that might need to be tuned later\n",
    "NUM_INPUT_BANDS = 14\n",
    "NUM_HIDDEN_1 = 15\n",
    "NUM_HIDDEN_2 = 15\n",
    "NUM_CLASSES = 2\n",
    "\n",
    "input = tf.placeholder(tf.float32, shape=[None, NUM_INPUT_BANDS])\n",
    "labels = tf.placeholder(tf.float32, shape=[None])\n",
    "\n",
    "normalized = (input - data_mean) / data_std\n",
    "hidden1 = tf.nn.tanh(make_nn_layer(normalized, NUM_HIDDEN_1))\n",
    "hidden2 = tf.nn.tanh(make_nn_layer(hidden1, NUM_HIDDEN_2))\n",
    "logits = make_nn_layer(hidden2, NUM_CLASSES)\n",
    "outputs = tf.argmax(logits, 1)\n",
    "\n",
    "int_labels = tf.to_int64(labels)\n",
    "cross_entropy = tf.nn.sparse_softmax_cross_entropy_with_logits(logits = logits, labels = int_labels, name='xentropy')\n",
    "train_step = tf.train.AdamOptimizer().minimize(cross_entropy) # should we minimize something else?\n",
    "\n",
    "correct_prediction = tf.equal(outputs, int_labels)\n",
    "accuracy = tf.reduce_mean(tf.cast(correct_prediction, tf.float32))\n",
    "# Want to add recall/precision to this but can do that later\n",
    "# https://stackoverflow.com/questions/46409626/how-to-properly-use-tf-metrics-accuracy\n",
    "\n",
    "import time\n",
    "def timer(start,end):\n",
    "    hours, rem = divmod(end-start, 3600)\n",
    "    minutes, seconds = divmod(rem, 60)\n",
    "    return str(\"{:0>2}:{:0>2}:{:05.2f}\".format(int(hours),int(minutes),seconds))\n"
   ]
  },
  {
   "cell_type": "markdown",
   "metadata": {},
   "source": [
    "Train the neural net"
   ]
  },
  {
   "cell_type": "code",
   "execution_count": null,
   "metadata": {},
   "outputs": [],
   "source": [
    "# Had to alter some config and runoptions because kept running into OOM at last step during eval \n",
    "config = tf.ConfigProto(\n",
    "    device_count = {'GPU': 0}\n",
    ")\n",
    "\n",
    "config.gpu_options.allow_growth = True\n",
    "sess = tf.Session(config=config)\n",
    "# run_options = tf.RunOptions(report_tensor_allocations_upon_oom = True)\n",
    "run_options=tf.RunOptions(report_tensor_allocations_upon_oom=True)\n",
    "\n",
    "# import logging\n",
    "# tf.logging.set_verbosity(tf.logging.INFO)\n",
    "\n",
    "flooded = feat_list_files.index('flooded')\n",
    "BATCH_SIZE = 1000\n",
    "NUM_BATCHES = 1000\n",
    "mySaver = tf.train.Saver()\n",
    "\n",
    "start_time = time.time()\n",
    "\n",
    "with tf.Session(config=config) as sess:\n",
    "    sess.run(tf.global_variables_initializer(), options=run_options)\n",
    "    \n",
    "    training_dict = {\n",
    "        input: training_data[:,0:14],\n",
    "        labels: training_data[:,14],\n",
    "    }\n",
    "\n",
    "    validation_dict = {\n",
    "        input: validation_data[:,0:14],\n",
    "        labels: validation_data[:,14],\n",
    "    }\n",
    "\n",
    "    for i in range(NUM_BATCHES):\n",
    "        batch = training_data[np.random.choice(training_size, BATCH_SIZE, False),:]\n",
    "        train_step.run({input: batch[:,0:14], labels: batch[:,14]})\n",
    "\n",
    "        if i % 100 == 0 or i == NUM_BATCHES - 1:\n",
    "#             print('Accuracy %.2f%% at step %d' % (accuracy.eval(validation_dict) * 100, i))\n",
    "#             print('Train acc. %.2f%%, val acc. %.2f%%, train recall %.2f%, val recall %.2f%, train precision %.2f%, val precision %.2f%, at step %d' \n",
    "            print('Train acc. %.2f%%, val acc. %.2f%%, at step %d' \n",
    "                  % (accuracy.eval(training_dict) * 100,\n",
    "                     accuracy.eval(validation_dict) * 100, \n",
    "                     i))\n",
    "\n",
    "    output_data = outputs.eval({input: data_vector[:,0:14]})\n",
    "    \n",
    "    # Save the model\n",
    "    mySaver.save(sess, model_path+model_name+'.ckpt', global_step = NUM_BATCHES)\n",
    "\n",
    "print('CNN training runtime: ' + timer(start_time, time.time()))"
   ]
  },
  {
   "cell_type": "markdown",
   "metadata": {},
   "source": [
    "### Performance metrics"
   ]
  },
  {
   "cell_type": "code",
   "execution_count": 10,
   "metadata": {},
   "outputs": [
    {
     "name": "stdout",
     "output_type": "stream",
     "text": [
      "               notFlooded    Flooded \n",
      "    notFlooded       95.8        0.2 \n",
      "       Flooded        0.7        3.3 \n",
      "CNN Recall:  0.8185302773566396\n"
     ]
    }
   ],
   "source": [
    "from sklearn import metrics\n",
    "\n",
    "# Confusion matrix\n",
    "def print_cm(cm, labels, hide_zeroes=False, hide_diagonal=False, hide_threshold=None):\n",
    "    \"\"\"pretty print for confusion matrixes\"\"\"\n",
    "    columnwidth = max([len(x) for x in labels] + [5])  # 5 is value length\n",
    "    empty_cell = \" \" * columnwidth\n",
    "    # Print header\n",
    "    print(\"    \" + empty_cell, end=\" \")\n",
    "    for label in labels:\n",
    "        print(\"%{0}s\".format(columnwidth) % label, end=\" \")\n",
    "    print()\n",
    "    # Print rows\n",
    "    for i, label1 in enumerate(labels):\n",
    "        print(\"    %{0}s\".format(columnwidth) % label1, end=\" \")\n",
    "        for j in range(len(labels)):\n",
    "            cell = \"%{0}.1f\".format(columnwidth) % cm[i, j]\n",
    "            if hide_zeroes:\n",
    "                cell = cell if float(cm[i, j]) != 0 else empty_cell\n",
    "            if hide_diagonal:\n",
    "                cell = cell if i != j else empty_cell\n",
    "            if hide_threshold:\n",
    "                cell = cell if cm[i, j] > hide_threshold else empty_cell\n",
    "            print(cell, end=\" \")\n",
    "        print()\n",
    "\n",
    "print_cm(metrics.confusion_matrix(data_vector[:,14], output_data)/len(output_data)*100, labels=['notFlooded','Flooded'])\n"
   ]
  },
  {
   "cell_type": "code",
   "execution_count": 11,
   "metadata": {},
   "outputs": [
    {
     "name": "stdout",
     "output_type": "stream",
     "text": [
      "CNN Recall:  0.8185302773566396\n",
      "Cnn Precision:  0.9416917697466162\n"
     ]
    }
   ],
   "source": [
    "print('CNN Recall: ', metrics.recall_score(data_vector[:,14], output_data))\n",
    "print('CNN Precision: ', metrics.precision_score(data_vector[:,14], output_data))"
   ]
  },
  {
   "cell_type": "markdown",
   "metadata": {},
   "source": [
    "Visualizing actual vs. predicted flooding on clear image (training)"
   ]
  },
  {
   "cell_type": "code",
   "execution_count": 12,
   "metadata": {},
   "outputs": [
    {
     "data": {
      "image/png": "[encoded data removed]",
      "text/plain": [
       "<Figure size 1440x2160 with 2 Axes>"
      ]
     },
     "metadata": {
      "needs_background": "light"
     },
     "output_type": "display_data"
    }
   ],
   "source": [
    "# Reshape predicted values back into image band\n",
    "with rasterio.open(path + '/../'+'/stack/stack.tif', 'r') as ds:\n",
    "        shape = ds.read(2).shape # Shape of full original image\n",
    "        arr_empty = np.zeros(shape) # Create empty array with this shape\n",
    "\n",
    "output_image = arr_empty\n",
    "rows, cols = zip(data_ind)\n",
    "output_image[rows, cols] = output_data\n",
    "\n",
    "plt.figure(figsize=(20,30))\n",
    "columns = 2\n",
    "images = [output_image, data[:,:,14]]\n",
    "titles = ['Predicted Flooding','Actual Flooding']\n",
    "for i, image in enumerate(images):\n",
    "    plt.subplot(len(images) / columns + 1, columns, i + 1)\n",
    "    plt.title(titles[i], fontdict = {'fontsize' : 18})\n",
    "    plt.imshow(image)\n",
    "    plt.colorbar"
   ]
  },
  {
   "cell_type": "markdown",
   "metadata": {},
   "source": [
    "#### Should I add weights to cross entropy to account for imbalanced dataset?"
   ]
  },
  {
   "cell_type": "markdown",
   "metadata": {},
   "source": [
    "https://stats.stackexchange.com/questions/197273/class-balancing-in-deep-neural-network\n",
    "\n",
    "https://stackoverflow.com/questions/35155655/loss-function-for-class-imbalanced-binary-classifier-in-tensor-flow\n",
    "\n",
    "https://datascience.stackexchange.com/questions/30930/accuracy-and-loss-dont-change-in-cnn-is-it-over-fitting\n"
   ]
  },
  {
   "cell_type": "markdown",
   "metadata": {},
   "source": [
    "## Fill cloud gaps using trained CNN\n",
    "### Load and pre-process cloud gap image"
   ]
  },
  {
   "cell_type": "code",
   "execution_count": 20,
   "metadata": {},
   "outputs": [
    {
     "name": "stderr",
     "output_type": "stream",
     "text": [
      "C:\\Users\\ipdavies\\AppData\\Local\\Continuum\\miniconda3\\envs\\tensorflow\\lib\\site-packages\\rasterio\\__init__.py:160: FutureWarning: GDAL-style transforms are deprecated and will not be supported in Rasterio 1.0.\n",
      "  transform = guard_transform(transform)\n"
     ]
    }
   ],
   "source": [
    "# Stack exported tifs from GEE into one multiband tif\n",
    "import rasterio\n",
    "import os\n",
    "\n",
    "file_list = []\n",
    "with ZipFile(path_clouds, 'r') as f:\n",
    "    names = f.namelist()\n",
    "    names = ['zip://'+path_clear+'!'+name for name in names]\n",
    "    for file in names:\n",
    "        if file.endswith('.tif'):\n",
    "            file_list.append(file)\n",
    "\n",
    "feat_list_files = list(map(lambda x: x.split('.')[-2], file_list)) # list of features in file order\n",
    "\n",
    "#=========== Want to rearrange the order of files so that target feature is last\n",
    "\n",
    "# Create list of features with target feature (flooded) last\n",
    "feat_list_new = ['aspect','curve', 'developed', 'distExtent', 'elevation', 'forest',\n",
    " 'GSW_maxExtent', 'hand', 'other_landcover', 'planted', 'slope', 'spi', 'twi', 'wetlands', 'flooded']\n",
    "\n",
    "# Create 1 row df of file names where each col is a feature name, in the order files are stored locally\n",
    "file_arr = pd.DataFrame(data=[file_list], columns=feat_list_files)\n",
    "\n",
    "# Then index the file list by the ordered list of feature names used in training\n",
    "file_arr = file_arr.loc[:, feat_list_new]\n",
    "\n",
    "# The take this re-ordered row as a list - the new file_list\n",
    "file_list = list(file_arr.iloc[0,:])\n",
    "    \n",
    "# Read metadata of first file. This needs to be a band in float32 dtype, because it sets the metadata for the entire stack\n",
    "# and we are converting the other bands to float64\n",
    "with rasterio.open(file_list[1]) as src0:\n",
    "    meta = src0.meta\n",
    "    meta['dtype'] = 'float32'\n",
    "#         print(meta)\n",
    "\n",
    "# Update meta to reflect the number of layers\n",
    "meta.update(count = len(file_list))\n",
    "\n",
    "# Read each layer, convert to float, and write it to stack\n",
    "# There's also a gdal way to do this, but unsure how to convert to float: https://gis.stackexchange.com/questions/223910/using-rasterio-or-gdal-to-stack-multiple-bands-without-using-subprocess-commands\n",
    "\n",
    "# Make new directory for stacked tif if it doesn't already exist\n",
    "try:\n",
    "    os.mkdir(path_clouds+'/stack')\n",
    "except OSError:\n",
    "    pass\n",
    "\n",
    "# Remove stack file if already exists\n",
    "try:\n",
    "    os.remove(path_clouds + '/stack/stack.tif')\n",
    "except OSError:\n",
    "    pass\n",
    "\n",
    "with rasterio.open(path_clouds + '/stack/stack.tif', 'w', **meta) as dst:\n",
    "    for id, layer in enumerate(file_list, start=0):\n",
    "        with rasterio.open(layer) as src1:\n",
    "            dst.write_band(id+1, src1.read(1).astype('float32'))\n",
    "\n",
    "\n",
    "#=======================================================================================\n",
    "\n",
    "# Preprocess the data\n",
    "\n",
    "# Get local image\n",
    "with rasterio.open(path_clouds + '/stack/stack.tif', 'r') as ds:\n",
    "    data = ds.read()\n",
    "    data = data.transpose((1, -1, 0)) # Not sure why the rasterio.read output is originally (D, W, H)\n",
    "\n",
    "# Need to remove NaNs because any arithmetic operation involving an NaN will result in NaN\n",
    "\n",
    "# Convert -999999 to None\n",
    "data[data == -999999] = np.nan\n",
    "\n",
    "# Get indices of non-nan values. These are the indices of the original image array\n",
    "# data_ind = np.where(data[:,:,1] != None)\n",
    "data_ind = np.where(~np.isnan(data[:,:,1]))\n",
    "row, col = zip(np.where(~np.isnan(data[:,:,1]))) # image row and col of values\n",
    "len(*row)\n",
    "\n",
    "\n",
    "#=======================================================================================\n",
    "\n",
    "# Reshape into a single vector of pixels.\n",
    "data_vector = data.reshape([data.shape[0] * data.shape[1], data.shape[2]])\n",
    "\n",
    "# Remove NaNs\n",
    "data_vector = data_vector[~np.isnan(data_vector).any(axis=1)]\n",
    "data_vector.shape\n",
    "\n",
    "# Hold out a fraction of the labeled data for validation.\n",
    "# training_size = int(data_vector.shape[0] * (1 - HOLDOUT_FRACTION))\n",
    "# training_data = data_vector[0:training_size,:]\n",
    "# validation_data = data_vector[training_size:-1,:]\n",
    "\n",
    "# Compute per-band means and standard deviations of the input bands.\n",
    "data_mean = training_data[:,0:14].mean(0)\n",
    "data_std = training_data[:,0:14].std(0)"
   ]
  },
  {
   "cell_type": "markdown",
   "metadata": {},
   "source": [
    "### Import trained CNN and predict on cloud gaps"
   ]
  },
  {
   "cell_type": "code",
   "execution_count": 21,
   "metadata": {},
   "outputs": [
    {
     "name": "stdout",
     "output_type": "stream",
     "text": [
      "INFO:tensorflow:Restoring parameters from C:/Users/ipdavies/CPR/data/models/cnn2/cnn2.ckpt-1000\n"
     ]
    }
   ],
   "source": [
    "# Need to read up on checkpoints and saved models\n",
    "# https://www.tensorflow.org/guide/checkpoints\n",
    "\n",
    "# Had to alter some config and runoptions because kept running into OOM at last step during eval \n",
    "config = tf.ConfigProto(\n",
    "    device_count = {'GPU': 0}\n",
    ")\n",
    "\n",
    "config.gpu_options.allow_growth = True\n",
    "sess = tf.Session(config=config)\n",
    "# run_options = tf.RunOptions(report_tensor_allocations_upon_oom = True)\n",
    "run_options=tf.RunOptions(report_tensor_allocations_upon_oom=True)\n",
    "\n",
    "# Prepare feed dictionary\n",
    "\n",
    "new_input = tf.placeholder(tf.float32, shape=[None, NUM_INPUT_BANDS])\n",
    "new_labels = tf.placeholder(tf.float32, shape=[None])\n",
    "\n",
    "normalized = (input - data_mean) / data_std\n",
    "\n",
    "with tf.Session(config=config) as sess:\n",
    "    mySaver = tf.train.import_meta_graph(model_path+model_name+'.ckpt-1000.meta')\n",
    "#     saver.restore(sess, tf.train.latest_checkpoint(model_path+'./'))\n",
    "#     mySaver.restore(sess, model_path+'cnn2.ckpt-1000')\n",
    "    mySaver.restore(sess, tf.train.latest_checkpoint(model_path+'./'))\n",
    "    \n",
    "    pred_data = outputs.eval({input: data_vector[:,0:14]})\n",
    "    # graph = tf.get_default_graph()\n",
    "    # print([n.name for n in graph.as_graph_def().node])"
   ]
  },
  {
   "cell_type": "markdown",
   "metadata": {},
   "source": [
    "### Performance metrics on cloud gaps"
   ]
  },
  {
   "cell_type": "code",
   "execution_count": 29,
   "metadata": {},
   "outputs": [
    {
     "name": "stdout",
     "output_type": "stream",
     "text": [
      "Cloud gaps contain 12.88% flooded pixels\n"
     ]
    }
   ],
   "source": [
    "# How imbalanced is our dataset? Flooded vs. non-flooded pixels\n",
    "print('Cloud gaps contain ' + str(round(np.sum(data_vector[:,14]==1)/np.sum(data_vector[:,14]==0)*100, 2)) + '% flooded pixels')"
   ]
  },
  {
   "cell_type": "code",
   "execution_count": 34,
   "metadata": {},
   "outputs": [
    {
     "name": "stdout",
     "output_type": "stream",
     "text": [
      "               notFlooded    Flooded \n",
      "    notFlooded       88.2        0.4 \n",
      "       Flooded        1.1       10.3 \n",
      "CNN Recall:  0.904770288329959\n",
      "CNN Precision:  0.9597545033191287\n"
     ]
    },
    {
     "data": {
      "image/png": "[encoded data removed]",
      "text/plain": [
       "<Figure size 1440x2160 with 2 Axes>"
      ]
     },
     "metadata": {
      "needs_background": "light"
     },
     "output_type": "display_data"
    }
   ],
   "source": [
    "# Confusion matrix\n",
    "print_cm(metrics.confusion_matrix(data_vector[:,14], pred_data)/len(pred_data)*100, labels=['notFlooded','Flooded'])\n",
    "\n",
    "print('CNN Recall: ', metrics.recall_score(data_vector[:,14], pred_data))\n",
    "print('CNN Precision: ', metrics.precision_score(data_vector[:,14], pred_data))\n",
    "\n",
    "# Reshape predicted values back into image band\n",
    "with rasterio.open(path_clouds + '/stack/stack.tif', 'r') as ds:\n",
    "        shape = ds.read(2).shape # Shape of full original image\n",
    "        arr_empty = np.zeros(shape) # Create empty array with this shape\n",
    "        arr_empty[:] = np.nan\n",
    "\n",
    "output_image = arr_empty\n",
    "rows, cols = zip(data_ind)\n",
    "output_image[rows, cols] = pred_data\n",
    "\n",
    "\n",
    "plt.figure(figsize=(20,30))\n",
    "columns = 2\n",
    "images = [output_image, data[:,:,14]]\n",
    "titles = ['Predicted Flooding','Actual Flooding']\n",
    "for i, image in enumerate(images):\n",
    "    plt.subplot(len(images) / columns + 1, columns, i + 1)\n",
    "    plt.title(titles[i], fontdict = {'fontsize' : 18})\n",
    "    plt.imshow(image)\n",
    "    plt.colorbar\n",
    "plt.show()"
   ]
  }
 ],
 "metadata": {
  "kernelspec": {
   "display_name": "Python (tensorflow)",
   "language": "python",
   "name": "tensorflow"
  },
  "language_info": {
   "codemirror_mode": {
    "name": "ipython",
    "version": 3
   },
   "file_extension": ".py",
   "mimetype": "text/x-python",
   "name": "python",
   "nbconvert_exporter": "python",
   "pygments_lexer": "ipython3",
   "version": "3.6.6"
  }
 },
 "nbformat": 4,
 "nbformat_minor": 2
}
