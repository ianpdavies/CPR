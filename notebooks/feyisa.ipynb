{
 "cells": [
  {
   "cell_type": "markdown",
   "metadata": {},
   "source": [
    "# Feyisa automated water extraction index"
   ]
  },
  {
   "cell_type": "markdown",
   "metadata": {},
   "source": [
    "From [Feyisa et al. (2014)](https://www.sciencedirect.com/science/article/pii/S0034425713002873)"
   ]
  },
  {
   "cell_type": "code",
   "execution_count": 2,
   "metadata": {},
   "outputs": [],
   "source": [
    "import ee; ee.Initialize()"
   ]
  },
  {
   "cell_type": "markdown",
   "metadata": {},
   "source": [
    "### Detect floods"
   ]
  },
  {
   "cell_type": "code",
   "execution_count": 3,
   "metadata": {},
   "outputs": [],
   "source": [
    "scene = ee.Image('LANDSAT/LC08/C01/T1_TOA/LC08_044033_20170105')\n",
    "\n",
    "# AWEI Function from Feyisa et al. (2014) to detect water\n",
    "def feyisa(image):\n",
    "    return image.expression(\"4 * (b('B3')-b('B6')) - (0.25 * b('B5') + 2.75 * b('B7'))\").gt(0)\n",
    "\n",
    "sceneFlood = feyisa(scene).rename('floodBinary')"
   ]
  },
  {
   "cell_type": "markdown",
   "metadata": {},
   "source": [
    "### Remove clouds and cloud shadows"
   ]
  },
  {
   "cell_type": "code",
   "execution_count": 17,
   "metadata": {},
   "outputs": [],
   "source": [
    "# Compute the bits we need to extract\n",
    "def getQABits(image, start, end, newName):\n",
    "    pattern = 0\n",
    "    i = start\n",
    "    for i in xrange(start, end+1):\n",
    "        pattern += 2**i\n",
    "    # Return a single band image of the extracted QA bits, giving the band a new name\n",
    "    return image.select([0], [newName])\\\n",
    "              .bitwiseAnd(pattern)\\\n",
    "              .rightShift(start);\n",
    "\n",
    "# Cloud shadows QA (Landsat 8, T1 TOA)\n",
    "def cloud_shadowsQA(image):\n",
    "    QA = image.select(['BQA'])\n",
    "    return getQABits(QA, 7, 8, 'cloud_shadows').eq(1)\n",
    "\n",
    "# Clouds QA (Landsat 8, T1 TOA)\n",
    "def cloudsQA(image):\n",
    "    QA = image.select(['BQA'])\n",
    "    return getQABits(QA, 4, 4, 'clouds').eq(0)"
   ]
  },
  {
   "cell_type": "code",
   "execution_count": 11,
   "metadata": {},
   "outputs": [
    {
     "data": {
      "text/plain": [
       "32"
      ]
     },
     "execution_count": 11,
     "metadata": {},
     "output_type": "execute_result"
    }
   ],
   "source": [
    "cs = cloud_shadowsQA(scene)\n",
    "c = cloudsQA(scene)\n",
    "\n",
    "sceneFlood = sceneFlood.updateMask(cs).updateMask(c)"
   ]
  }
 ],
 "metadata": {
  "kernelspec": {
   "display_name": "Python (tensorflow)",
   "language": "python",
   "name": "tensorflow"
  },
  "language_info": {
   "codemirror_mode": {
    "name": "ipython",
    "version": 3
   },
   "file_extension": ".py",
   "mimetype": "text/x-python",
   "name": "python",
   "nbconvert_exporter": "python",
   "pygments_lexer": "ipython3",
   "version": "3.6.6"
  }
 },
 "nbformat": 4,
 "nbformat_minor": 2
}
