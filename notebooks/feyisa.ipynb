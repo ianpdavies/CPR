{
 "cells": [
  {
   "cell_type": "markdown",
   "metadata": {},
   "source": [
    "# Feyisa automated water extraction index"
   ]
  },
  {
   "cell_type": "markdown",
   "metadata": {},
   "source": [
    "From [Feyisa et al. (2014](https://www.sciencedirect.com/science/article/pii/S0034425713002873)"
   ]
  },
  {
   "cell_type": "markdown",
   "metadata": {},
   "source": [
    "From \"20170606_Full_Feyisa_with_Freq\"\n"
   ]
  },
  {
   "cell_type": "code",
   "execution_count": null,
   "metadata": {},
   "outputs": [],
   "source": [
    "var landCoverImage = image.expression(\" b('terrainshade') == 0 ? (4 * (b('B3')-b('B6')) - (0.25 * b('B5') + 2.75 * b('B7'))) : b('terrainshade') == 1 &&  b('landcover') != 1 ? (b('B2') + (2.5 * (b('B3'))) - (1.5 * (b('B5') + b('B6'))) - (0.25 * (b('B7')))) : b('terrainshade') == 1 && b('landcover') == 1 ? ((4 * (b('B3')-b('B6')) - (0.25 * b('B5') + 2.75 * b('B7'))) > 0 ? (b('B2') + (2.5 * (b('B3'))) - (1.5 * (b('B5') + b('B6'))) - (0.25 * (b('B7')))) : ((4 * (b('B3')-b('B6')) - (0.25 * b('B5') + 2.75 * b('B7'))))) : (b('B2') + (2.5 * (b('B3'))) - (1.5 * (b('B5') + b('B6'))) - (0.25 * (b('B7'))))\")\n",
    "    return landCoverImage.gt(0).rename(['flooded']).set({\n",
    "    \t\"system:time_start\": image.get(\"system:time_start\"),\n",
    "    \t\"system:time_end\": image.get(\"system:time_end\"),\n",
    "    \t\"DATE_ACQUIRED\": image.get(\"DATE_ACQUIRED\")\n",
    "    });"
   ]
  }
 ],
 "metadata": {
  "kernelspec": {
   "display_name": "Python (tensorflow)",
   "language": "python",
   "name": "tensorflow"
  },
  "language_info": {
   "codemirror_mode": {
    "name": "ipython",
    "version": 3
   },
   "file_extension": ".py",
   "mimetype": "text/x-python",
   "name": "python",
   "nbconvert_exporter": "python",
   "pygments_lexer": "ipython3",
   "version": "3.6.6"
  }
 },
 "nbformat": 4,
 "nbformat_minor": 2
}
